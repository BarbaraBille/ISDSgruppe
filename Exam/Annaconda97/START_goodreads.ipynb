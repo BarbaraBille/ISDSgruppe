{
 "cells": [
  {
   "cell_type": "code",
   "execution_count": 1,
   "id": "e5d2d9f6-33bf-44bb-8cee-a0dde6db413c",
   "metadata": {
    "tags": []
   },
   "outputs": [],
   "source": [
    "import requests\n",
    "from bs4 import BeautifulSoup\n",
    "from selenium import webdriver\n",
    "from webdriver_manager.chrome import ChromeDriverManager\n",
    "from selenium.webdriver.common.by import By\n",
    "from selenium.webdriver.common.keys import Keys\n",
    "from selenium.common.exceptions import StaleElementReferenceException\n",
    "import re\n",
    "import time\n"
   ]
  },
  {
   "cell_type": "code",
   "execution_count": 2,
   "id": "eaf5128e-ed9b-4372-b204-7d82aa50c65b",
   "metadata": {
    "tags": []
   },
   "outputs": [],
   "source": [
    "url = 'https://www.goodreads.com/'\n",
    "driver = webdriver.Chrome() \n",
    "driver.get(url)"
   ]
  },
  {
   "cell_type": "code",
   "execution_count": 4,
   "id": "263ae620-3c2d-43bf-a33b-15a16cb6f880",
   "metadata": {
    "tags": []
   },
   "outputs": [],
   "source": [
    "soegefelt = driver.find_element(By.ID, 'sitesearch_field')\n",
    "soegefelt.click()\n",
    "\n",
    "soegefelt.send_keys('economics')\n",
    "\n",
    "soegefelt.send_keys(Keys.RETURN)\n",
    "\n",
    "time.sleep(2)\n",
    "\n",
    "\n",
    "\n"
   ]
  },
  {
   "cell_type": "code",
   "execution_count": 10,
   "id": "a96029ef-2909-41ab-b574-d09bca5faa35",
   "metadata": {
    "tags": []
   },
   "outputs": [
    {
     "ename": "StaleElementReferenceException",
     "evalue": "Message: stale element reference: stale element not found\n  (Session info: chrome=115.0.5790.170); For documentation on this error, please visit: https://www.selenium.dev/documentation/webdriver/troubleshooting/errors#stale-element-reference-exception\nStacktrace:\n0   chromedriver                        0x0000000105cf3af8 chromedriver + 4987640\n1   chromedriver                        0x0000000105ceaeb3 chromedriver + 4951731\n2   chromedriver                        0x000000010589e8d7 chromedriver + 444631\n3   chromedriver                        0x00000001058aeae9 chromedriver + 510697\n4   chromedriver                        0x00000001058a43f4 chromedriver + 467956\n5   chromedriver                        0x00000001058a2a47 chromedriver + 461383\n6   chromedriver                        0x00000001058a5e04 chromedriver + 474628\n7   chromedriver                        0x00000001058a5f4c chromedriver + 474956\n8   chromedriver                        0x00000001058e4755 chromedriver + 730965\n9   chromedriver                        0x00000001058e4b41 chromedriver + 731969\n10  chromedriver                        0x00000001058d85b6 chromedriver + 681398\n11  chromedriver                        0x000000010590ab3d chromedriver + 887613\n12  chromedriver                        0x00000001058d8478 chromedriver + 681080\n13  chromedriver                        0x000000010590acce chromedriver + 888014\n14  chromedriver                        0x0000000105925d31 chromedriver + 998705\n15  chromedriver                        0x000000010590a8e3 chromedriver + 887011\n16  chromedriver                        0x00000001058d69b9 chromedriver + 674233\n17  chromedriver                        0x00000001058d7b9e chromedriver + 678814\n18  chromedriver                        0x0000000105cafdc9 chromedriver + 4709833\n19  chromedriver                        0x0000000105cb4de4 chromedriver + 4730340\n20  chromedriver                        0x0000000105cbbc99 chromedriver + 4758681\n21  chromedriver                        0x0000000105cb5b3a chromedriver + 4733754\n22  chromedriver                        0x0000000105c8935c chromedriver + 4551516\n23  chromedriver                        0x0000000105cd3908 chromedriver + 4856072\n24  chromedriver                        0x0000000105cd3a87 chromedriver + 4856455\n25  chromedriver                        0x0000000105ce3def chromedriver + 4922863\n26  libsystem_pthread.dylib             0x00007ff80e7601d3 _pthread_start + 125\n27  libsystem_pthread.dylib             0x00007ff80e75bbd3 thread_start + 15\n",
     "output_type": "error",
     "traceback": [
      "\u001b[0;31m---------------------------------------------------------------------------\u001b[0m",
      "\u001b[0;31mStaleElementReferenceException\u001b[0m            Traceback (most recent call last)",
      "Cell \u001b[0;32mIn[10], line 1\u001b[0m\n\u001b[0;32m----> 1\u001b[0m popup \u001b[38;5;241m=\u001b[39m soegefelt\u001b[38;5;241m.\u001b[39mfind_element(By\u001b[38;5;241m.\u001b[39mCSS_SELECTOR, \u001b[38;5;124m'\u001b[39m\u001b[38;5;124m.modal__content\u001b[39m\u001b[38;5;124m'\u001b[39m)\n\u001b[1;32m      2\u001b[0m popup\u001b[38;5;241m.\u001b[39mclick()\n\u001b[1;32m      4\u001b[0m soegefelt\u001b[38;5;241m.\u001b[39msend_keys(Keys\u001b[38;5;241m.\u001b[39mESCAPE)\n",
      "File \u001b[0;32m~/anaconda3/lib/python3.11/site-packages/selenium/webdriver/remote/webelement.py:417\u001b[0m, in \u001b[0;36mWebElement.find_element\u001b[0;34m(self, by, value)\u001b[0m\n\u001b[1;32m    414\u001b[0m     by \u001b[38;5;241m=\u001b[39m By\u001b[38;5;241m.\u001b[39mCSS_SELECTOR\n\u001b[1;32m    415\u001b[0m     value \u001b[38;5;241m=\u001b[39m \u001b[38;5;124mf\u001b[39m\u001b[38;5;124m'\u001b[39m\u001b[38;5;124m[name=\u001b[39m\u001b[38;5;124m\"\u001b[39m\u001b[38;5;132;01m{\u001b[39;00mvalue\u001b[38;5;132;01m}\u001b[39;00m\u001b[38;5;124m\"\u001b[39m\u001b[38;5;124m]\u001b[39m\u001b[38;5;124m'\u001b[39m\n\u001b[0;32m--> 417\u001b[0m \u001b[38;5;28;01mreturn\u001b[39;00m \u001b[38;5;28mself\u001b[39m\u001b[38;5;241m.\u001b[39m_execute(Command\u001b[38;5;241m.\u001b[39mFIND_CHILD_ELEMENT, {\u001b[38;5;124m\"\u001b[39m\u001b[38;5;124musing\u001b[39m\u001b[38;5;124m\"\u001b[39m: by, \u001b[38;5;124m\"\u001b[39m\u001b[38;5;124mvalue\u001b[39m\u001b[38;5;124m\"\u001b[39m: value})[\u001b[38;5;124m\"\u001b[39m\u001b[38;5;124mvalue\u001b[39m\u001b[38;5;124m\"\u001b[39m]\n",
      "File \u001b[0;32m~/anaconda3/lib/python3.11/site-packages/selenium/webdriver/remote/webelement.py:395\u001b[0m, in \u001b[0;36mWebElement._execute\u001b[0;34m(self, command, params)\u001b[0m\n\u001b[1;32m    393\u001b[0m     params \u001b[38;5;241m=\u001b[39m {}\n\u001b[1;32m    394\u001b[0m params[\u001b[38;5;124m\"\u001b[39m\u001b[38;5;124mid\u001b[39m\u001b[38;5;124m\"\u001b[39m] \u001b[38;5;241m=\u001b[39m \u001b[38;5;28mself\u001b[39m\u001b[38;5;241m.\u001b[39m_id\n\u001b[0;32m--> 395\u001b[0m \u001b[38;5;28;01mreturn\u001b[39;00m \u001b[38;5;28mself\u001b[39m\u001b[38;5;241m.\u001b[39m_parent\u001b[38;5;241m.\u001b[39mexecute(command, params)\n",
      "File \u001b[0;32m~/anaconda3/lib/python3.11/site-packages/selenium/webdriver/remote/webdriver.py:345\u001b[0m, in \u001b[0;36mWebDriver.execute\u001b[0;34m(self, driver_command, params)\u001b[0m\n\u001b[1;32m    343\u001b[0m response \u001b[38;5;241m=\u001b[39m \u001b[38;5;28mself\u001b[39m\u001b[38;5;241m.\u001b[39mcommand_executor\u001b[38;5;241m.\u001b[39mexecute(driver_command, params)\n\u001b[1;32m    344\u001b[0m \u001b[38;5;28;01mif\u001b[39;00m response:\n\u001b[0;32m--> 345\u001b[0m     \u001b[38;5;28mself\u001b[39m\u001b[38;5;241m.\u001b[39merror_handler\u001b[38;5;241m.\u001b[39mcheck_response(response)\n\u001b[1;32m    346\u001b[0m     response[\u001b[38;5;124m\"\u001b[39m\u001b[38;5;124mvalue\u001b[39m\u001b[38;5;124m\"\u001b[39m] \u001b[38;5;241m=\u001b[39m \u001b[38;5;28mself\u001b[39m\u001b[38;5;241m.\u001b[39m_unwrap_value(response\u001b[38;5;241m.\u001b[39mget(\u001b[38;5;124m\"\u001b[39m\u001b[38;5;124mvalue\u001b[39m\u001b[38;5;124m\"\u001b[39m, \u001b[38;5;28;01mNone\u001b[39;00m))\n\u001b[1;32m    347\u001b[0m     \u001b[38;5;28;01mreturn\u001b[39;00m response\n",
      "File \u001b[0;32m~/anaconda3/lib/python3.11/site-packages/selenium/webdriver/remote/errorhandler.py:229\u001b[0m, in \u001b[0;36mErrorHandler.check_response\u001b[0;34m(self, response)\u001b[0m\n\u001b[1;32m    227\u001b[0m         alert_text \u001b[38;5;241m=\u001b[39m value[\u001b[38;5;124m\"\u001b[39m\u001b[38;5;124malert\u001b[39m\u001b[38;5;124m\"\u001b[39m]\u001b[38;5;241m.\u001b[39mget(\u001b[38;5;124m\"\u001b[39m\u001b[38;5;124mtext\u001b[39m\u001b[38;5;124m\"\u001b[39m)\n\u001b[1;32m    228\u001b[0m     \u001b[38;5;28;01mraise\u001b[39;00m exception_class(message, screen, stacktrace, alert_text)  \u001b[38;5;66;03m# type: ignore[call-arg]  # mypy is not smart enough here\u001b[39;00m\n\u001b[0;32m--> 229\u001b[0m \u001b[38;5;28;01mraise\u001b[39;00m exception_class(message, screen, stacktrace)\n",
      "\u001b[0;31mStaleElementReferenceException\u001b[0m: Message: stale element reference: stale element not found\n  (Session info: chrome=115.0.5790.170); For documentation on this error, please visit: https://www.selenium.dev/documentation/webdriver/troubleshooting/errors#stale-element-reference-exception\nStacktrace:\n0   chromedriver                        0x0000000105cf3af8 chromedriver + 4987640\n1   chromedriver                        0x0000000105ceaeb3 chromedriver + 4951731\n2   chromedriver                        0x000000010589e8d7 chromedriver + 444631\n3   chromedriver                        0x00000001058aeae9 chromedriver + 510697\n4   chromedriver                        0x00000001058a43f4 chromedriver + 467956\n5   chromedriver                        0x00000001058a2a47 chromedriver + 461383\n6   chromedriver                        0x00000001058a5e04 chromedriver + 474628\n7   chromedriver                        0x00000001058a5f4c chromedriver + 474956\n8   chromedriver                        0x00000001058e4755 chromedriver + 730965\n9   chromedriver                        0x00000001058e4b41 chromedriver + 731969\n10  chromedriver                        0x00000001058d85b6 chromedriver + 681398\n11  chromedriver                        0x000000010590ab3d chromedriver + 887613\n12  chromedriver                        0x00000001058d8478 chromedriver + 681080\n13  chromedriver                        0x000000010590acce chromedriver + 888014\n14  chromedriver                        0x0000000105925d31 chromedriver + 998705\n15  chromedriver                        0x000000010590a8e3 chromedriver + 887011\n16  chromedriver                        0x00000001058d69b9 chromedriver + 674233\n17  chromedriver                        0x00000001058d7b9e chromedriver + 678814\n18  chromedriver                        0x0000000105cafdc9 chromedriver + 4709833\n19  chromedriver                        0x0000000105cb4de4 chromedriver + 4730340\n20  chromedriver                        0x0000000105cbbc99 chromedriver + 4758681\n21  chromedriver                        0x0000000105cb5b3a chromedriver + 4733754\n22  chromedriver                        0x0000000105c8935c chromedriver + 4551516\n23  chromedriver                        0x0000000105cd3908 chromedriver + 4856072\n24  chromedriver                        0x0000000105cd3a87 chromedriver + 4856455\n25  chromedriver                        0x0000000105ce3def chromedriver + 4922863\n26  libsystem_pthread.dylib             0x00007ff80e7601d3 _pthread_start + 125\n27  libsystem_pthread.dylib             0x00007ff80e75bbd3 thread_start + 15\n"
     ]
    }
   ],
   "source": [
    "popup = soegefelt.find_element(By.CSS_SELECTOR, '.modal__content')\n",
    "popup.click()\n",
    "\n",
    "soegefelt.send_keys(Keys.ESCAPE)"
   ]
  },
  {
   "cell_type": "code",
   "execution_count": null,
   "id": "adaa9a5b-9bba-49f7-9909-3fe5bad703b8",
   "metadata": {},
   "outputs": [],
   "source": []
  }
 ],
 "metadata": {
  "kernelspec": {
   "display_name": "Python 3 (ipykernel)",
   "language": "python",
   "name": "python3"
  },
  "language_info": {
   "codemirror_mode": {
    "name": "ipython",
    "version": 3
   },
   "file_extension": ".py",
   "mimetype": "text/x-python",
   "name": "python",
   "nbconvert_exporter": "python",
   "pygments_lexer": "ipython3",
   "version": "3.11.3"
  }
 },
 "nbformat": 4,
 "nbformat_minor": 5
}
