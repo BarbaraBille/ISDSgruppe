{
 "cells": [
  {
   "cell_type": "code",
   "execution_count": 496,
   "id": "7a1be962-28d8-424d-a21d-025f8fb79c5a",
   "metadata": {},
   "outputs": [],
   "source": [
    "import pandas as pd\n",
    "import re\n",
    "import numpy as np\n",
    "import warnings\n",
    "import matplotlib.pyplot as plt\n",
    "import seaborn as sns\n",
    "\n",
    "from pathlib import Path\n",
    "\n",
    "from sklearn.pipeline import make_pipeline\n",
    "from sklearn.model_selection import train_test_split, GridSearchCV, cross_val_score, learning_curve, validation_curve \n",
    "from sklearn.preprocessing import PolynomialFeatures, StandardScaler\n",
    "from sklearn.feature_extraction.text import TfidfVectorizer\n",
    "from sklearn.linear_model import Lasso, LinearRegression, LogisticRegression, ElasticNet\n",
    "from sklearn.metrics import mean_squared_error as mse\n",
    "from sklearn.exceptions import ConvergenceWarning\n",
    "warnings.filterwarnings(action='ignore', category=ConvergenceWarning)"
   ]
  },
  {
   "cell_type": "code",
   "execution_count": 376,
   "id": "81e4eebe-0b5c-4010-8f18-b7a543dabe84",
   "metadata": {},
   "outputs": [],
   "source": [
    "# Import data\n",
    "fp_data = Path.cwd()\n",
    "file_path = fp_data/ 'data_processed.csv'\n",
    "df = pd.read_csv(file_path)\n",
    "\n",
    "# Create X variables as description, title and other variables\n",
    "X_des = df['proc_be']\n",
    "X_tit = df['proc_ti']\n",
    "X_num = df.drop(columns = ['Forfatter', 'Titel', 'beskrivelse', 'proc_be', 'proc_ti', 'Stjerner'])\n",
    "# remember to include dummy for gender\n",
    "\n",
    "# Create y variable as average ratings \n",
    "y = df['Stjerner']"
   ]
  },
  {
   "cell_type": "code",
   "execution_count": 377,
   "id": "c05a151c-62f4-453c-bb56-b2cfbce12a44",
   "metadata": {},
   "outputs": [],
   "source": [
    "# Split into development (2/3) and test data (1/3)\n",
    "X_dev_tit, X_test_tit, y_dev, y_test = train_test_split(X_tit, y, test_size=1/3, random_state=1234)\n",
    "X_dev_des, X_test_des = train_test_split(X_des, test_size=1/3, random_state=1234)\n",
    "X_dev_num, X_test_num = train_test_split(X_num, test_size=1/3, random_state=1234)"
   ]
  },
  {
   "cell_type": "markdown",
   "id": "fe5a91dd-05fe-4232-89fe-772321a54b72",
   "metadata": {},
   "source": [
    "## Lasso"
   ]
  },
  {
   "cell_type": "code",
   "execution_count": 378,
   "id": "7676366c-6eb2-464d-84f7-f40338390d27",
   "metadata": {},
   "outputs": [],
   "source": [
    "# Hyperparameter list for all X's \n",
    "lambdas = np.logspace(-4, 4, 10)\n",
    "degrees = [1,2]"
   ]
  },
  {
   "cell_type": "code",
   "execution_count": 379,
   "id": "1cc1c0de-8c1a-4da8-8ceb-c28a6b7e0ccf",
   "metadata": {},
   "outputs": [],
   "source": [
    "# Pipeline for processed titles and description\n",
    "pipe_words_las = make_pipeline(TfidfVectorizer(),\n",
    "    Lasso(random_state=1234))\n",
    "\n",
    "# param grid used for titles and description\n",
    "param_words_las = {'lasso__alpha': lambdas}\n",
    "   \n",
    "# Gridsearch for processed titles and description\n",
    "search_lasso_title = GridSearchCV(pipe_words_las, param_words_las, scoring='neg_mean_squared_error', cv=3,  return_train_score=True)\n",
    "search_lasso_des = GridSearchCV(pipe_words_las, param_words_las, scoring='neg_mean_squared_error', cv=3,  return_train_score=True)"
   ]
  },
  {
   "cell_type": "code",
   "execution_count": 380,
   "id": "7a90bbab-d9e1-49e4-8c41-2edfb8124e0a",
   "metadata": {},
   "outputs": [],
   "source": [
    "# Pipeline for numerical variables\n",
    "pipe_num_las = make_pipeline(PolynomialFeatures(include_bias=True),\n",
    "    StandardScaler(),\n",
    "    Lasso(random_state=1234))\n",
    "\n",
    "# param grid used for titles and description\n",
    "param_num_las = {'polynomialfeatures__degree': degrees,\n",
    "            'lasso__alpha': lambdas}\n",
    "\n",
    "# Gridsearch for numerical variables\n",
    "search_lasso_num = GridSearchCV(pipe_num_las, param_num_las, scoring='neg_mean_squared_error', cv=3,  return_train_score=True)"
   ]
  },
  {
   "cell_type": "code",
   "execution_count": 381,
   "id": "3f10ba0d-7e47-490a-8575-aac01207ede1",
   "metadata": {},
   "outputs": [],
   "source": [
    "# append result to a list\n",
    "las_result = []\n",
    "\n",
    "# Fit title words\n",
    "search_lasso_title.fit(X_dev_tit, y_dev)\n",
    "las_result.append(search_lasso_title)\n",
    "\n",
    "# Fit description words\n",
    "search_lasso_des.fit(X_dev_des, y_dev)\n",
    "las_result.append(search_lasso_des)\n",
    "\n",
    "# Fit numerical values\n",
    "search_lasso_num.fit(X_dev_num, y_dev)\n",
    "las_result.append(search_lasso_num)"
   ]
  },
  {
   "cell_type": "code",
   "execution_count": 382,
   "id": "4b0cb737-8897-4d0e-b6c2-5864b2133bed",
   "metadata": {},
   "outputs": [
    {
     "name": "stdout",
     "output_type": "stream",
     "text": [
      "Lasso_title Best parameter set: {'lasso__alpha': 0.046415888336127774} Best mse: 0.06308174189814815 Best accuracy: 0.125\n",
      "Lasso_des Best parameter set: {'lasso__alpha': 0.046415888336127774} Best mse: 0.06308174189814815 Best accuracy: 0.125\n",
      "Lasso_num Best parameter set: {'lasso__alpha': 0.005994842503189409, 'polynomialfeatures__degree': 1} Best mse: 0.061796347644285654 Best accuracy: 0.1388888888888889\n"
     ]
    }
   ],
   "source": [
    "las_models = ['Lasso_title', 'Lasso_des', 'Lasso_num']\n",
    "las_dataset = [X_dev_tit, X_dev_des, X_dev_num]\n",
    "accu_las = []\n",
    "mse_las = []\n",
    "para_las = []\n",
    "\n",
    "for i, name in enumerate(las_models):\n",
    "    mse_l = -las_result[i].best_score_\n",
    "    mse_las.append(mse_l)\n",
    "    \n",
    "    y_hat = las_result[i].predict(las_dataset[i])\n",
    "    accuracy = np.mean(y_dev.round(1)==y_hat.round(1))\n",
    "    accu_las.append(accuracy)\n",
    "                    \n",
    "    para = las_result[i].best_params_\n",
    "    para_las.append(para)\n",
    "    \n",
    "    print(f'{name} Best parameter set: {para}', \n",
    "          f'Best mse: {mse_l}',\n",
    "          f'Best accuracy: {accuracy}')"
   ]
  },
  {
   "cell_type": "markdown",
   "id": "e446579c-2c9c-44ab-a23a-9ea5840d2b8c",
   "metadata": {},
   "source": [
    "## Elasticnet"
   ]
  },
  {
   "cell_type": "code",
   "execution_count": 383,
   "id": "3b2cb438-4b55-42ad-be3e-bbb0bb06202b",
   "metadata": {},
   "outputs": [],
   "source": [
    "# Hyperparameter list for all X's \n",
    "lambdas = np.logspace(-4, 4, 10)\n",
    "degrees = [1,2]\n",
    "ela__l1_ratio = np.linspace(0, 1, 10)"
   ]
  },
  {
   "cell_type": "code",
   "execution_count": 384,
   "id": "45b5d36f-bf89-498d-96e6-b252fa7ff7b3",
   "metadata": {},
   "outputs": [],
   "source": [
    "# Pipeline for processed titles and description\n",
    "pipe_words_elas = make_pipeline(TfidfVectorizer(),\n",
    "                                ElasticNet(random_state=1234))\n",
    "\n",
    "# param grid used for titles and description\n",
    "param_words_elas = {'elasticnet__alpha': lambdas,\n",
    "                   'elasticnet__l1_ratio': ela__l1_ratio}\n",
    "   \n",
    "# Gridsearch for processed titles and description\n",
    "search_elas_title = GridSearchCV(pipe_words_elas, param_words_elas, scoring='neg_mean_squared_error', cv=3,  return_train_score=True)\n",
    "search_elas_des = GridSearchCV(pipe_words_elas, param_words_elas, scoring='neg_mean_squared_error', cv=3,  return_train_score=True)"
   ]
  },
  {
   "cell_type": "code",
   "execution_count": 385,
   "id": "f8cd2f95-2d09-4e77-a667-71974835bc9e",
   "metadata": {},
   "outputs": [],
   "source": [
    "# Pipeline for numerical variables\n",
    "pipe_num_ela = make_pipeline(PolynomialFeatures(include_bias=True),\n",
    "    StandardScaler(),\n",
    "    ElasticNet(random_state=1234))\n",
    "\n",
    "# param grid used for titles and description\n",
    "param_num_ela = {'polynomialfeatures__degree': degrees,\n",
    "                'elasticnet__alpha': lambdas,\n",
    "                'elasticnet__l1_ratio': ela__l1_ratio}\n",
    "\n",
    "# Gridsearch for numerical variables\n",
    "search_elas_num = GridSearchCV(pipe_num_ela, param_num_ela, scoring='neg_mean_squared_error', cv=3,  return_train_score=True)"
   ]
  },
  {
   "cell_type": "code",
   "execution_count": 386,
   "id": "22f153a7-b193-42b6-9d8f-5d4a9e3097b2",
   "metadata": {},
   "outputs": [],
   "source": [
    "# append result to a list\n",
    "elastic_result = []\n",
    "\n",
    "# Fit title words\n",
    "search_elas_title.fit(X_dev_tit, y_dev)\n",
    "elastic_result.append(search_elas_title)\n",
    "\n",
    "# Fit description words\n",
    "search_elas_des.fit(X_dev_des, y_dev)\n",
    "elastic_result.append(search_elas_des)\n",
    "\n",
    "# Fit numerical values\n",
    "search_elas_num.fit(X_dev_num, y_dev)\n",
    "elastic_result.append(search_elas_num)"
   ]
  },
  {
   "cell_type": "code",
   "execution_count": 387,
   "id": "cda093ee-b251-42c7-bbc4-cdfbc37c6dea",
   "metadata": {},
   "outputs": [
    {
     "name": "stdout",
     "output_type": "stream",
     "text": [
      "Elastic_title Best parameter set: {'elasticnet__alpha': 0.046415888336127774, 'elasticnet__l1_ratio': 0.0} Best mse: 0.060691008197316175 Best accuracy: 0.19444444444444445\n",
      "Elastic_des Best parameter set: {'elasticnet__alpha': 0.000774263682681127, 'elasticnet__l1_ratio': 0.0} Best mse: 0.05600052327733716 Best accuracy: 0.9166666666666666\n",
      "Elastic_num Best parameter set: {'elasticnet__alpha': 0.046415888336127774, 'elasticnet__l1_ratio': 0.5555555555555556, 'polynomialfeatures__degree': 2} Best mse: 0.059699460661979835 Best accuracy: 0.125\n"
     ]
    }
   ],
   "source": [
    "elas_models = ['Elastic_title', 'Elastic_des', 'Elastic_num']\n",
    "elas_dataset = [X_dev_tit, X_dev_des, X_dev_num]\n",
    "accu_elas = []\n",
    "mse_elas = []\n",
    "para_elas = []\n",
    "\n",
    "for i, name in enumerate(elas_models):\n",
    "    mse_e = -elastic_result[i].best_score_\n",
    "    mse_elas.append(mse_e)\n",
    "    \n",
    "    y_hat = elastic_result[i].predict(elas_dataset[i])\n",
    "    accuracy = np.mean(y_dev.round(1)==y_hat.round(1))\n",
    "    accu_elas.append(accuracy)\n",
    "                    \n",
    "    para = elastic_result[i].best_params_\n",
    "    para_elas.append(para)\n",
    "    \n",
    "    print(f'{name} Best parameter set: {para}', \n",
    "          f'Best mse: {mse_e}',\n",
    "          f'Best accuracy: {accuracy}')                  "
   ]
  },
  {
   "cell_type": "markdown",
   "id": "f54fa64a-8384-4daa-beab-33be1e639680",
   "metadata": {},
   "source": [
    "## OLS"
   ]
  },
  {
   "cell_type": "code",
   "execution_count": 388,
   "id": "8c9f17df-5430-46d9-8360-ef7e8900ce4c",
   "metadata": {},
   "outputs": [],
   "source": [
    "# Hyperparameter list for all X's \n",
    "degrees = [1,2]"
   ]
  },
  {
   "cell_type": "code",
   "execution_count": 389,
   "id": "98298b7f-eb03-488f-a634-4c0ee8d99907",
   "metadata": {},
   "outputs": [],
   "source": [
    "# Pipeline for processed titles and description\n",
    "pipe_words_ols = make_pipeline(TfidfVectorizer(),\n",
    "                                LinearRegression())"
   ]
  },
  {
   "cell_type": "code",
   "execution_count": 390,
   "id": "a088dfc1-9bc2-46c1-9e96-526c2bdd72a8",
   "metadata": {},
   "outputs": [],
   "source": [
    "# Pipeline for numerical variables\n",
    "pipe_num_ols = make_pipeline(PolynomialFeatures(include_bias=True),\n",
    "    StandardScaler(),\n",
    "    LinearRegression())\n",
    "\n",
    "# param grid used for titles and description\n",
    "param_num_ols = {'polynomialfeatures__degree': degrees}\n",
    "\n",
    "# Gridsearch for numerical variables\n",
    "search_ols_num = GridSearchCV(pipe_num_ols, param_num_ols, scoring='neg_mean_squared_error', cv=3,  return_train_score=True)"
   ]
  },
  {
   "cell_type": "code",
   "execution_count": 391,
   "id": "68be825e-f714-423a-8858-d6dace73e3e1",
   "metadata": {},
   "outputs": [
    {
     "data": {
      "text/html": [
       "<style>#sk-container-id-15 {color: black;}#sk-container-id-15 pre{padding: 0;}#sk-container-id-15 div.sk-toggleable {background-color: white;}#sk-container-id-15 label.sk-toggleable__label {cursor: pointer;display: block;width: 100%;margin-bottom: 0;padding: 0.3em;box-sizing: border-box;text-align: center;}#sk-container-id-15 label.sk-toggleable__label-arrow:before {content: \"▸\";float: left;margin-right: 0.25em;color: #696969;}#sk-container-id-15 label.sk-toggleable__label-arrow:hover:before {color: black;}#sk-container-id-15 div.sk-estimator:hover label.sk-toggleable__label-arrow:before {color: black;}#sk-container-id-15 div.sk-toggleable__content {max-height: 0;max-width: 0;overflow: hidden;text-align: left;background-color: #f0f8ff;}#sk-container-id-15 div.sk-toggleable__content pre {margin: 0.2em;color: black;border-radius: 0.25em;background-color: #f0f8ff;}#sk-container-id-15 input.sk-toggleable__control:checked~div.sk-toggleable__content {max-height: 200px;max-width: 100%;overflow: auto;}#sk-container-id-15 input.sk-toggleable__control:checked~label.sk-toggleable__label-arrow:before {content: \"▾\";}#sk-container-id-15 div.sk-estimator input.sk-toggleable__control:checked~label.sk-toggleable__label {background-color: #d4ebff;}#sk-container-id-15 div.sk-label input.sk-toggleable__control:checked~label.sk-toggleable__label {background-color: #d4ebff;}#sk-container-id-15 input.sk-hidden--visually {border: 0;clip: rect(1px 1px 1px 1px);clip: rect(1px, 1px, 1px, 1px);height: 1px;margin: -1px;overflow: hidden;padding: 0;position: absolute;width: 1px;}#sk-container-id-15 div.sk-estimator {font-family: monospace;background-color: #f0f8ff;border: 1px dotted black;border-radius: 0.25em;box-sizing: border-box;margin-bottom: 0.5em;}#sk-container-id-15 div.sk-estimator:hover {background-color: #d4ebff;}#sk-container-id-15 div.sk-parallel-item::after {content: \"\";width: 100%;border-bottom: 1px solid gray;flex-grow: 1;}#sk-container-id-15 div.sk-label:hover label.sk-toggleable__label {background-color: #d4ebff;}#sk-container-id-15 div.sk-serial::before {content: \"\";position: absolute;border-left: 1px solid gray;box-sizing: border-box;top: 0;bottom: 0;left: 50%;z-index: 0;}#sk-container-id-15 div.sk-serial {display: flex;flex-direction: column;align-items: center;background-color: white;padding-right: 0.2em;padding-left: 0.2em;position: relative;}#sk-container-id-15 div.sk-item {position: relative;z-index: 1;}#sk-container-id-15 div.sk-parallel {display: flex;align-items: stretch;justify-content: center;background-color: white;position: relative;}#sk-container-id-15 div.sk-item::before, #sk-container-id-15 div.sk-parallel-item::before {content: \"\";position: absolute;border-left: 1px solid gray;box-sizing: border-box;top: 0;bottom: 0;left: 50%;z-index: -1;}#sk-container-id-15 div.sk-parallel-item {display: flex;flex-direction: column;z-index: 1;position: relative;background-color: white;}#sk-container-id-15 div.sk-parallel-item:first-child::after {align-self: flex-end;width: 50%;}#sk-container-id-15 div.sk-parallel-item:last-child::after {align-self: flex-start;width: 50%;}#sk-container-id-15 div.sk-parallel-item:only-child::after {width: 0;}#sk-container-id-15 div.sk-dashed-wrapped {border: 1px dashed gray;margin: 0 0.4em 0.5em 0.4em;box-sizing: border-box;padding-bottom: 0.4em;background-color: white;}#sk-container-id-15 div.sk-label label {font-family: monospace;font-weight: bold;display: inline-block;line-height: 1.2em;}#sk-container-id-15 div.sk-label-container {text-align: center;}#sk-container-id-15 div.sk-container {/* jupyter's `normalize.less` sets `[hidden] { display: none; }` but bootstrap.min.css set `[hidden] { display: none !important; }` so we also need the `!important` here to be able to override the default hidden behavior on the sphinx rendered scikit-learn.org. See: https://github.com/scikit-learn/scikit-learn/issues/21755 */display: inline-block !important;position: relative;}#sk-container-id-15 div.sk-text-repr-fallback {display: none;}</style><div id=\"sk-container-id-15\" class=\"sk-top-container\"><div class=\"sk-text-repr-fallback\"><pre>GridSearchCV(cv=3,\n",
       "             estimator=Pipeline(steps=[(&#x27;polynomialfeatures&#x27;,\n",
       "                                        PolynomialFeatures()),\n",
       "                                       (&#x27;standardscaler&#x27;, StandardScaler()),\n",
       "                                       (&#x27;linearregression&#x27;,\n",
       "                                        LinearRegression())]),\n",
       "             param_grid={&#x27;polynomialfeatures__degree&#x27;: [1, 2]},\n",
       "             return_train_score=True, scoring=&#x27;neg_mean_squared_error&#x27;)</pre><b>In a Jupyter environment, please rerun this cell to show the HTML representation or trust the notebook. <br />On GitHub, the HTML representation is unable to render, please try loading this page with nbviewer.org.</b></div><div class=\"sk-container\" hidden><div class=\"sk-item sk-dashed-wrapped\"><div class=\"sk-label-container\"><div class=\"sk-label sk-toggleable\"><input class=\"sk-toggleable__control sk-hidden--visually\" id=\"sk-estimator-id-67\" type=\"checkbox\" ><label for=\"sk-estimator-id-67\" class=\"sk-toggleable__label sk-toggleable__label-arrow\">GridSearchCV</label><div class=\"sk-toggleable__content\"><pre>GridSearchCV(cv=3,\n",
       "             estimator=Pipeline(steps=[(&#x27;polynomialfeatures&#x27;,\n",
       "                                        PolynomialFeatures()),\n",
       "                                       (&#x27;standardscaler&#x27;, StandardScaler()),\n",
       "                                       (&#x27;linearregression&#x27;,\n",
       "                                        LinearRegression())]),\n",
       "             param_grid={&#x27;polynomialfeatures__degree&#x27;: [1, 2]},\n",
       "             return_train_score=True, scoring=&#x27;neg_mean_squared_error&#x27;)</pre></div></div></div><div class=\"sk-parallel\"><div class=\"sk-parallel-item\"><div class=\"sk-item\"><div class=\"sk-label-container\"><div class=\"sk-label sk-toggleable\"><input class=\"sk-toggleable__control sk-hidden--visually\" id=\"sk-estimator-id-68\" type=\"checkbox\" ><label for=\"sk-estimator-id-68\" class=\"sk-toggleable__label sk-toggleable__label-arrow\">estimator: Pipeline</label><div class=\"sk-toggleable__content\"><pre>Pipeline(steps=[(&#x27;polynomialfeatures&#x27;, PolynomialFeatures()),\n",
       "                (&#x27;standardscaler&#x27;, StandardScaler()),\n",
       "                (&#x27;linearregression&#x27;, LinearRegression())])</pre></div></div></div><div class=\"sk-serial\"><div class=\"sk-item\"><div class=\"sk-serial\"><div class=\"sk-item\"><div class=\"sk-estimator sk-toggleable\"><input class=\"sk-toggleable__control sk-hidden--visually\" id=\"sk-estimator-id-69\" type=\"checkbox\" ><label for=\"sk-estimator-id-69\" class=\"sk-toggleable__label sk-toggleable__label-arrow\">PolynomialFeatures</label><div class=\"sk-toggleable__content\"><pre>PolynomialFeatures()</pre></div></div></div><div class=\"sk-item\"><div class=\"sk-estimator sk-toggleable\"><input class=\"sk-toggleable__control sk-hidden--visually\" id=\"sk-estimator-id-70\" type=\"checkbox\" ><label for=\"sk-estimator-id-70\" class=\"sk-toggleable__label sk-toggleable__label-arrow\">StandardScaler</label><div class=\"sk-toggleable__content\"><pre>StandardScaler()</pre></div></div></div><div class=\"sk-item\"><div class=\"sk-estimator sk-toggleable\"><input class=\"sk-toggleable__control sk-hidden--visually\" id=\"sk-estimator-id-71\" type=\"checkbox\" ><label for=\"sk-estimator-id-71\" class=\"sk-toggleable__label sk-toggleable__label-arrow\">LinearRegression</label><div class=\"sk-toggleable__content\"><pre>LinearRegression()</pre></div></div></div></div></div></div></div></div></div></div></div></div>"
      ],
      "text/plain": [
       "GridSearchCV(cv=3,\n",
       "             estimator=Pipeline(steps=[('polynomialfeatures',\n",
       "                                        PolynomialFeatures()),\n",
       "                                       ('standardscaler', StandardScaler()),\n",
       "                                       ('linearregression',\n",
       "                                        LinearRegression())]),\n",
       "             param_grid={'polynomialfeatures__degree': [1, 2]},\n",
       "             return_train_score=True, scoring='neg_mean_squared_error')"
      ]
     },
     "execution_count": 391,
     "metadata": {},
     "output_type": "execute_result"
    }
   ],
   "source": [
    "# Fit title words\n",
    "pipe_words_ols.fit(X_dev_tit, y_dev)\n",
    "\n",
    "# Fit description words\n",
    "pipe_words_ols.fit(X_dev_des, y_dev)\n",
    "\n",
    "# Fit numerical values\n",
    "search_ols_num.fit(X_dev_num, y_dev)"
   ]
  },
  {
   "cell_type": "code",
   "execution_count": 392,
   "id": "9a8f11e8-84f9-4d2c-8729-46250abcdca4",
   "metadata": {},
   "outputs": [
    {
     "name": "stdout",
     "output_type": "stream",
     "text": [
      "OLS_titleBest mse: 0.039754611655284 Best accuracy: 0.125\n",
      "OLS_desBest mse: 9.660083149930282e-17 Best accuracy: 0.9444444444444444\n",
      "OLS_numBest mse: 0.06527789889469714 Best accuracy: 0.1388888888888889\n",
      "OLS_num Best parameter set: {'polynomialfeatures__degree': 1}\n"
     ]
    }
   ],
   "source": [
    "accu_ols = []\n",
    "mse_ols = []\n",
    "\n",
    "# Words: \n",
    "y_hat_tit = pipe_words_ols.predict(X_dev_tit)\n",
    "MSE_tit = mse(y_hat_tit,y_dev)\n",
    "accuracy_tit =  np.mean(y_dev.round(1)==y_hat_tit.round(1)) \n",
    "\n",
    "y_hat_des = pipe_words_ols.predict(X_dev_des)\n",
    "MSE_des = mse(y_hat_des,y_dev)\n",
    "accuracy_des =  np.mean(y_dev.round(1)==y_hat_des.round(1)) \n",
    "\n",
    "#numerical variables\n",
    "\n",
    "y_hat_num = search_ols_num.predict(X_dev_num)\n",
    "MSE_num = -search_ols_num.best_score_\n",
    "accuracy_num = np.mean(y_dev.round(1)==y_hat_num.round(1))\n",
    "\n",
    "#Append MSE and accuracy to list\n",
    "mse_ols.append(MSE_tit)\n",
    "mse_ols.append(MSE_des)\n",
    "mse_ols.append(MSE_num)\n",
    "\n",
    "accu_ols.append(accuracy_tit)\n",
    "accu_ols.append(accuracy_des)\n",
    "accu_ols.append(accuracy_num)\n",
    "\n",
    "para_ols = search_ols_num.best_params_ #dictionary\n",
    "\n",
    "ols_models = ['OLS_title', 'OLS_des', 'OLS_num']\n",
    "\n",
    "for i, name in enumerate(ols_models):\n",
    "    print(f'{name}Best mse: {mse_ols[i]}',\n",
    "          f'Best accuracy: {accu_ols[i]}')\n",
    "    \n",
    "print(f'{ols_models[2]} Best parameter set: {search_ols_num.best_params_}')\n"
   ]
  },
  {
   "cell_type": "markdown",
   "id": "e2864a8f-dea3-4b35-85ce-d2cfc7a3c215",
   "metadata": {},
   "source": [
    "## Lasso - test"
   ]
  },
  {
   "cell_type": "code",
   "execution_count": 414,
   "id": "80926d8a-d69e-4990-b05c-eb5d28ce506b",
   "metadata": {},
   "outputs": [],
   "source": [
    "#Title pipeline\n",
    "pipe_tit_las_best = make_pipeline(TfidfVectorizer(),\n",
    "    Lasso(alpha = para_las[0]['lasso__alpha'], random_state=1234))\n",
    "\n",
    "#Description pipeline\n",
    "pipe_des_las_best = make_pipeline(TfidfVectorizer(),\n",
    "    Lasso(alpha = para_las[1]['lasso__alpha'], random_state=1234))\n",
    "\n",
    "#Numerical pipeline\n",
    "pipe_num_las_best = make_pipeline(\n",
    "    PolynomialFeatures(degree = para_las[2]['polynomialfeatures__degree'], include_bias=True),\n",
    "    StandardScaler(),\n",
    "    Lasso(alpha = para_las[2]['lasso__alpha'], random_state=1234))\n"
   ]
  },
  {
   "cell_type": "code",
   "execution_count": 415,
   "id": "efe95052-1d06-4deb-9ad2-0ce739e7ce39",
   "metadata": {},
   "outputs": [
    {
     "data": {
      "text/html": [
       "<style>#sk-container-id-18 {color: black;}#sk-container-id-18 pre{padding: 0;}#sk-container-id-18 div.sk-toggleable {background-color: white;}#sk-container-id-18 label.sk-toggleable__label {cursor: pointer;display: block;width: 100%;margin-bottom: 0;padding: 0.3em;box-sizing: border-box;text-align: center;}#sk-container-id-18 label.sk-toggleable__label-arrow:before {content: \"▸\";float: left;margin-right: 0.25em;color: #696969;}#sk-container-id-18 label.sk-toggleable__label-arrow:hover:before {color: black;}#sk-container-id-18 div.sk-estimator:hover label.sk-toggleable__label-arrow:before {color: black;}#sk-container-id-18 div.sk-toggleable__content {max-height: 0;max-width: 0;overflow: hidden;text-align: left;background-color: #f0f8ff;}#sk-container-id-18 div.sk-toggleable__content pre {margin: 0.2em;color: black;border-radius: 0.25em;background-color: #f0f8ff;}#sk-container-id-18 input.sk-toggleable__control:checked~div.sk-toggleable__content {max-height: 200px;max-width: 100%;overflow: auto;}#sk-container-id-18 input.sk-toggleable__control:checked~label.sk-toggleable__label-arrow:before {content: \"▾\";}#sk-container-id-18 div.sk-estimator input.sk-toggleable__control:checked~label.sk-toggleable__label {background-color: #d4ebff;}#sk-container-id-18 div.sk-label input.sk-toggleable__control:checked~label.sk-toggleable__label {background-color: #d4ebff;}#sk-container-id-18 input.sk-hidden--visually {border: 0;clip: rect(1px 1px 1px 1px);clip: rect(1px, 1px, 1px, 1px);height: 1px;margin: -1px;overflow: hidden;padding: 0;position: absolute;width: 1px;}#sk-container-id-18 div.sk-estimator {font-family: monospace;background-color: #f0f8ff;border: 1px dotted black;border-radius: 0.25em;box-sizing: border-box;margin-bottom: 0.5em;}#sk-container-id-18 div.sk-estimator:hover {background-color: #d4ebff;}#sk-container-id-18 div.sk-parallel-item::after {content: \"\";width: 100%;border-bottom: 1px solid gray;flex-grow: 1;}#sk-container-id-18 div.sk-label:hover label.sk-toggleable__label {background-color: #d4ebff;}#sk-container-id-18 div.sk-serial::before {content: \"\";position: absolute;border-left: 1px solid gray;box-sizing: border-box;top: 0;bottom: 0;left: 50%;z-index: 0;}#sk-container-id-18 div.sk-serial {display: flex;flex-direction: column;align-items: center;background-color: white;padding-right: 0.2em;padding-left: 0.2em;position: relative;}#sk-container-id-18 div.sk-item {position: relative;z-index: 1;}#sk-container-id-18 div.sk-parallel {display: flex;align-items: stretch;justify-content: center;background-color: white;position: relative;}#sk-container-id-18 div.sk-item::before, #sk-container-id-18 div.sk-parallel-item::before {content: \"\";position: absolute;border-left: 1px solid gray;box-sizing: border-box;top: 0;bottom: 0;left: 50%;z-index: -1;}#sk-container-id-18 div.sk-parallel-item {display: flex;flex-direction: column;z-index: 1;position: relative;background-color: white;}#sk-container-id-18 div.sk-parallel-item:first-child::after {align-self: flex-end;width: 50%;}#sk-container-id-18 div.sk-parallel-item:last-child::after {align-self: flex-start;width: 50%;}#sk-container-id-18 div.sk-parallel-item:only-child::after {width: 0;}#sk-container-id-18 div.sk-dashed-wrapped {border: 1px dashed gray;margin: 0 0.4em 0.5em 0.4em;box-sizing: border-box;padding-bottom: 0.4em;background-color: white;}#sk-container-id-18 div.sk-label label {font-family: monospace;font-weight: bold;display: inline-block;line-height: 1.2em;}#sk-container-id-18 div.sk-label-container {text-align: center;}#sk-container-id-18 div.sk-container {/* jupyter's `normalize.less` sets `[hidden] { display: none; }` but bootstrap.min.css set `[hidden] { display: none !important; }` so we also need the `!important` here to be able to override the default hidden behavior on the sphinx rendered scikit-learn.org. See: https://github.com/scikit-learn/scikit-learn/issues/21755 */display: inline-block !important;position: relative;}#sk-container-id-18 div.sk-text-repr-fallback {display: none;}</style><div id=\"sk-container-id-18\" class=\"sk-top-container\"><div class=\"sk-text-repr-fallback\"><pre>Pipeline(steps=[(&#x27;polynomialfeatures&#x27;, PolynomialFeatures(degree=1)),\n",
       "                (&#x27;standardscaler&#x27;, StandardScaler()),\n",
       "                (&#x27;lasso&#x27;,\n",
       "                 Lasso(alpha=0.005994842503189409, random_state=1234))])</pre><b>In a Jupyter environment, please rerun this cell to show the HTML representation or trust the notebook. <br />On GitHub, the HTML representation is unable to render, please try loading this page with nbviewer.org.</b></div><div class=\"sk-container\" hidden><div class=\"sk-item sk-dashed-wrapped\"><div class=\"sk-label-container\"><div class=\"sk-label sk-toggleable\"><input class=\"sk-toggleable__control sk-hidden--visually\" id=\"sk-estimator-id-80\" type=\"checkbox\" ><label for=\"sk-estimator-id-80\" class=\"sk-toggleable__label sk-toggleable__label-arrow\">Pipeline</label><div class=\"sk-toggleable__content\"><pre>Pipeline(steps=[(&#x27;polynomialfeatures&#x27;, PolynomialFeatures(degree=1)),\n",
       "                (&#x27;standardscaler&#x27;, StandardScaler()),\n",
       "                (&#x27;lasso&#x27;,\n",
       "                 Lasso(alpha=0.005994842503189409, random_state=1234))])</pre></div></div></div><div class=\"sk-serial\"><div class=\"sk-item\"><div class=\"sk-estimator sk-toggleable\"><input class=\"sk-toggleable__control sk-hidden--visually\" id=\"sk-estimator-id-81\" type=\"checkbox\" ><label for=\"sk-estimator-id-81\" class=\"sk-toggleable__label sk-toggleable__label-arrow\">PolynomialFeatures</label><div class=\"sk-toggleable__content\"><pre>PolynomialFeatures(degree=1)</pre></div></div></div><div class=\"sk-item\"><div class=\"sk-estimator sk-toggleable\"><input class=\"sk-toggleable__control sk-hidden--visually\" id=\"sk-estimator-id-82\" type=\"checkbox\" ><label for=\"sk-estimator-id-82\" class=\"sk-toggleable__label sk-toggleable__label-arrow\">StandardScaler</label><div class=\"sk-toggleable__content\"><pre>StandardScaler()</pre></div></div></div><div class=\"sk-item\"><div class=\"sk-estimator sk-toggleable\"><input class=\"sk-toggleable__control sk-hidden--visually\" id=\"sk-estimator-id-83\" type=\"checkbox\" ><label for=\"sk-estimator-id-83\" class=\"sk-toggleable__label sk-toggleable__label-arrow\">Lasso</label><div class=\"sk-toggleable__content\"><pre>Lasso(alpha=0.005994842503189409, random_state=1234)</pre></div></div></div></div></div></div></div>"
      ],
      "text/plain": [
       "Pipeline(steps=[('polynomialfeatures', PolynomialFeatures(degree=1)),\n",
       "                ('standardscaler', StandardScaler()),\n",
       "                ('lasso',\n",
       "                 Lasso(alpha=0.005994842503189409, random_state=1234))])"
      ]
     },
     "execution_count": 415,
     "metadata": {},
     "output_type": "execute_result"
    }
   ],
   "source": [
    "#Fit to training data\n",
    "# Fit title words\n",
    "pipe_tit_las_best.fit(X_dev_tit, y_dev)\n",
    "\n",
    "# Fit description words\n",
    "pipe_des_las_best.fit(X_dev_des, y_dev)\n",
    "\n",
    "# Fit numerical values\n",
    "pipe_num_las_best.fit(X_dev_num, y_dev)"
   ]
  },
  {
   "cell_type": "code",
   "execution_count": 416,
   "id": "1a71a73a-b058-4728-bdf4-6761ba919d5f",
   "metadata": {},
   "outputs": [
    {
     "name": "stdout",
     "output_type": "stream",
     "text": [
      "[0.1111111111111111, 0.1111111111111111, 0.16666666666666666] [0.07698541666666667, 0.07698541666666667, 0.07545237370030004]\n"
     ]
    }
   ],
   "source": [
    "#Predict on test data\n",
    "accu_las_test = []\n",
    "mse_las_test = []\n",
    "\n",
    "# Words: \n",
    "y_hat_tit_test_las = pipe_tit_las_best.predict(X_test_tit)\n",
    "MSE_tit_test_las = mse(y_hat_tit_test_las,y_test)\n",
    "accuracy_tit_test_las =  np.mean(y_test.round(1)==y_hat_tit_test_las.round(1)) \n",
    "\n",
    "y_hat_des_test_las = pipe_des_las_best.predict(X_test_des)\n",
    "MSE_des_test_las = mse(y_hat_des_test_las,y_test)\n",
    "accuracy_des_test_las =  np.mean(y_test.round(1)==y_hat_des_test_las.round(1)) \n",
    "\n",
    "#numerical variables\n",
    "\n",
    "y_hat_num_test_las = pipe_num_las_best.predict(X_test_num)\n",
    "MSE_num_test_las = mse(y_hat_num_test_las,y_test)\n",
    "accuracy_num_test_las =  np.mean(y_test.round(1)==y_hat_num_test_las.round(1)) \n",
    "\n",
    "#Append MSE and accuracy to list\n",
    "mse_las_test.append(MSE_tit_test_las)\n",
    "mse_las_test.append(MSE_des_test_las)\n",
    "mse_las_test.append(MSE_num_test_las)\n",
    "\n",
    "accu_las_test.append(accuracy_tit_test_las)\n",
    "accu_las_test.append(accuracy_des_test_las)\n",
    "accu_las_test.append(accuracy_num_test_las)\n",
    "\n",
    "print(accu_las_test, mse_las_test)"
   ]
  },
  {
   "cell_type": "markdown",
   "id": "c9f67ba5-6f26-4c05-bec3-9ef4edf7d1fc",
   "metadata": {},
   "source": [
    "## Elastic net - test"
   ]
  },
  {
   "cell_type": "code",
   "execution_count": 417,
   "id": "51a38f57-013a-4bfb-8bb1-2b5a04029dec",
   "metadata": {},
   "outputs": [],
   "source": [
    "#Title pipeline\n",
    "pipe_tit_elas_best = make_pipeline(TfidfVectorizer(),\n",
    "    ElasticNet(alpha = para_elas[0]['elasticnet__alpha'], \n",
    "               l1_ratio  = para_elas[0]['elasticnet__l1_ratio'], \n",
    "               random_state=1234)\n",
    "                                  )\n",
    "\n",
    "#Description pipeline\n",
    "pipe_des_elas_best = make_pipeline(TfidfVectorizer(),\n",
    "    ElasticNet(alpha = para_elas[1]['elasticnet__alpha'], \n",
    "               l1_ratio  = para_elas[1]['elasticnet__l1_ratio'], \n",
    "               random_state=1234)\n",
    "                                  )\n",
    "\n",
    "#Numerical pipeline\n",
    "pipe_num_elas_best = make_pipeline(\n",
    "    PolynomialFeatures(degree = para_elas[2]['polynomialfeatures__degree'], include_bias=True),\n",
    "    StandardScaler(),\n",
    "    ElasticNet(alpha = para_elas[2]['elasticnet__alpha'], \n",
    "               l1_ratio  = para_elas[2]['elasticnet__l1_ratio'], \n",
    "               random_state=1234)\n",
    "                                    )"
   ]
  },
  {
   "cell_type": "code",
   "execution_count": 418,
   "id": "a6d0aeaa-f4ad-4adf-8beb-e4a204545844",
   "metadata": {},
   "outputs": [
    {
     "data": {
      "text/html": [
       "<style>#sk-container-id-19 {color: black;}#sk-container-id-19 pre{padding: 0;}#sk-container-id-19 div.sk-toggleable {background-color: white;}#sk-container-id-19 label.sk-toggleable__label {cursor: pointer;display: block;width: 100%;margin-bottom: 0;padding: 0.3em;box-sizing: border-box;text-align: center;}#sk-container-id-19 label.sk-toggleable__label-arrow:before {content: \"▸\";float: left;margin-right: 0.25em;color: #696969;}#sk-container-id-19 label.sk-toggleable__label-arrow:hover:before {color: black;}#sk-container-id-19 div.sk-estimator:hover label.sk-toggleable__label-arrow:before {color: black;}#sk-container-id-19 div.sk-toggleable__content {max-height: 0;max-width: 0;overflow: hidden;text-align: left;background-color: #f0f8ff;}#sk-container-id-19 div.sk-toggleable__content pre {margin: 0.2em;color: black;border-radius: 0.25em;background-color: #f0f8ff;}#sk-container-id-19 input.sk-toggleable__control:checked~div.sk-toggleable__content {max-height: 200px;max-width: 100%;overflow: auto;}#sk-container-id-19 input.sk-toggleable__control:checked~label.sk-toggleable__label-arrow:before {content: \"▾\";}#sk-container-id-19 div.sk-estimator input.sk-toggleable__control:checked~label.sk-toggleable__label {background-color: #d4ebff;}#sk-container-id-19 div.sk-label input.sk-toggleable__control:checked~label.sk-toggleable__label {background-color: #d4ebff;}#sk-container-id-19 input.sk-hidden--visually {border: 0;clip: rect(1px 1px 1px 1px);clip: rect(1px, 1px, 1px, 1px);height: 1px;margin: -1px;overflow: hidden;padding: 0;position: absolute;width: 1px;}#sk-container-id-19 div.sk-estimator {font-family: monospace;background-color: #f0f8ff;border: 1px dotted black;border-radius: 0.25em;box-sizing: border-box;margin-bottom: 0.5em;}#sk-container-id-19 div.sk-estimator:hover {background-color: #d4ebff;}#sk-container-id-19 div.sk-parallel-item::after {content: \"\";width: 100%;border-bottom: 1px solid gray;flex-grow: 1;}#sk-container-id-19 div.sk-label:hover label.sk-toggleable__label {background-color: #d4ebff;}#sk-container-id-19 div.sk-serial::before {content: \"\";position: absolute;border-left: 1px solid gray;box-sizing: border-box;top: 0;bottom: 0;left: 50%;z-index: 0;}#sk-container-id-19 div.sk-serial {display: flex;flex-direction: column;align-items: center;background-color: white;padding-right: 0.2em;padding-left: 0.2em;position: relative;}#sk-container-id-19 div.sk-item {position: relative;z-index: 1;}#sk-container-id-19 div.sk-parallel {display: flex;align-items: stretch;justify-content: center;background-color: white;position: relative;}#sk-container-id-19 div.sk-item::before, #sk-container-id-19 div.sk-parallel-item::before {content: \"\";position: absolute;border-left: 1px solid gray;box-sizing: border-box;top: 0;bottom: 0;left: 50%;z-index: -1;}#sk-container-id-19 div.sk-parallel-item {display: flex;flex-direction: column;z-index: 1;position: relative;background-color: white;}#sk-container-id-19 div.sk-parallel-item:first-child::after {align-self: flex-end;width: 50%;}#sk-container-id-19 div.sk-parallel-item:last-child::after {align-self: flex-start;width: 50%;}#sk-container-id-19 div.sk-parallel-item:only-child::after {width: 0;}#sk-container-id-19 div.sk-dashed-wrapped {border: 1px dashed gray;margin: 0 0.4em 0.5em 0.4em;box-sizing: border-box;padding-bottom: 0.4em;background-color: white;}#sk-container-id-19 div.sk-label label {font-family: monospace;font-weight: bold;display: inline-block;line-height: 1.2em;}#sk-container-id-19 div.sk-label-container {text-align: center;}#sk-container-id-19 div.sk-container {/* jupyter's `normalize.less` sets `[hidden] { display: none; }` but bootstrap.min.css set `[hidden] { display: none !important; }` so we also need the `!important` here to be able to override the default hidden behavior on the sphinx rendered scikit-learn.org. See: https://github.com/scikit-learn/scikit-learn/issues/21755 */display: inline-block !important;position: relative;}#sk-container-id-19 div.sk-text-repr-fallback {display: none;}</style><div id=\"sk-container-id-19\" class=\"sk-top-container\"><div class=\"sk-text-repr-fallback\"><pre>Pipeline(steps=[(&#x27;polynomialfeatures&#x27;, PolynomialFeatures()),\n",
       "                (&#x27;standardscaler&#x27;, StandardScaler()),\n",
       "                (&#x27;elasticnet&#x27;,\n",
       "                 ElasticNet(alpha=0.046415888336127774,\n",
       "                            l1_ratio=0.5555555555555556, random_state=1234))])</pre><b>In a Jupyter environment, please rerun this cell to show the HTML representation or trust the notebook. <br />On GitHub, the HTML representation is unable to render, please try loading this page with nbviewer.org.</b></div><div class=\"sk-container\" hidden><div class=\"sk-item sk-dashed-wrapped\"><div class=\"sk-label-container\"><div class=\"sk-label sk-toggleable\"><input class=\"sk-toggleable__control sk-hidden--visually\" id=\"sk-estimator-id-84\" type=\"checkbox\" ><label for=\"sk-estimator-id-84\" class=\"sk-toggleable__label sk-toggleable__label-arrow\">Pipeline</label><div class=\"sk-toggleable__content\"><pre>Pipeline(steps=[(&#x27;polynomialfeatures&#x27;, PolynomialFeatures()),\n",
       "                (&#x27;standardscaler&#x27;, StandardScaler()),\n",
       "                (&#x27;elasticnet&#x27;,\n",
       "                 ElasticNet(alpha=0.046415888336127774,\n",
       "                            l1_ratio=0.5555555555555556, random_state=1234))])</pre></div></div></div><div class=\"sk-serial\"><div class=\"sk-item\"><div class=\"sk-estimator sk-toggleable\"><input class=\"sk-toggleable__control sk-hidden--visually\" id=\"sk-estimator-id-85\" type=\"checkbox\" ><label for=\"sk-estimator-id-85\" class=\"sk-toggleable__label sk-toggleable__label-arrow\">PolynomialFeatures</label><div class=\"sk-toggleable__content\"><pre>PolynomialFeatures()</pre></div></div></div><div class=\"sk-item\"><div class=\"sk-estimator sk-toggleable\"><input class=\"sk-toggleable__control sk-hidden--visually\" id=\"sk-estimator-id-86\" type=\"checkbox\" ><label for=\"sk-estimator-id-86\" class=\"sk-toggleable__label sk-toggleable__label-arrow\">StandardScaler</label><div class=\"sk-toggleable__content\"><pre>StandardScaler()</pre></div></div></div><div class=\"sk-item\"><div class=\"sk-estimator sk-toggleable\"><input class=\"sk-toggleable__control sk-hidden--visually\" id=\"sk-estimator-id-87\" type=\"checkbox\" ><label for=\"sk-estimator-id-87\" class=\"sk-toggleable__label sk-toggleable__label-arrow\">ElasticNet</label><div class=\"sk-toggleable__content\"><pre>ElasticNet(alpha=0.046415888336127774, l1_ratio=0.5555555555555556,\n",
       "           random_state=1234)</pre></div></div></div></div></div></div></div>"
      ],
      "text/plain": [
       "Pipeline(steps=[('polynomialfeatures', PolynomialFeatures()),\n",
       "                ('standardscaler', StandardScaler()),\n",
       "                ('elasticnet',\n",
       "                 ElasticNet(alpha=0.046415888336127774,\n",
       "                            l1_ratio=0.5555555555555556, random_state=1234))])"
      ]
     },
     "execution_count": 418,
     "metadata": {},
     "output_type": "execute_result"
    }
   ],
   "source": [
    "# Fit on training data\n",
    "# Fit title words\n",
    "pipe_tit_elas_best.fit(X_dev_tit, y_dev)\n",
    "\n",
    "# Fit description words\n",
    "pipe_des_elas_best.fit(X_dev_des, y_dev)\n",
    "\n",
    "# Fit numerical values\n",
    "pipe_num_elas_best.fit(X_dev_num, y_dev)"
   ]
  },
  {
   "cell_type": "code",
   "execution_count": 419,
   "id": "8222d1e7-173a-4338-88f9-a9dac8010c8e",
   "metadata": {},
   "outputs": [
    {
     "name": "stdout",
     "output_type": "stream",
     "text": [
      "[0.1111111111111111, 0.1388888888888889, 0.1111111111111111] [0.07931625960274152, 0.07973729900887663, 0.07621951485177508]\n"
     ]
    }
   ],
   "source": [
    "#Predict test data\n",
    "accu_elas_test = []\n",
    "mse_elas_test = []\n",
    "\n",
    "# Words: \n",
    "y_hat_tit_test_elas = pipe_tit_elas_best.predict(X_test_tit)\n",
    "MSE_tit_test_elas = mse(y_hat_tit_test_elas,y_test)\n",
    "accuracy_tit_test_elas =  np.mean(y_test.round(1)==y_hat_tit_test_elas.round(1)) \n",
    "\n",
    "y_hat_des_test_elas = pipe_des_elas_best.predict(X_test_des)\n",
    "MSE_des_test_elas = mse(y_hat_des_test_elas,y_test)\n",
    "accuracy_des_test_elas =  np.mean(y_test.round(1)==y_hat_des_test_elas.round(1)) \n",
    "\n",
    "#numerical variables\n",
    "\n",
    "y_hat_num_test_elas = pipe_num_elas_best.predict(X_test_num)\n",
    "MSE_num_test_elas = mse(y_hat_num_test_elas,y_test)\n",
    "accuracy_num_test_elas =  np.mean(y_test.round(1)==y_hat_num_test_elas.round(1)) \n",
    "\n",
    "#Append MSE and accuracy to list\n",
    "mse_elas_test.append(MSE_tit_test_elas)\n",
    "mse_elas_test.append(MSE_des_test_elas)\n",
    "mse_elas_test.append(MSE_num_test_elas)\n",
    "\n",
    "accu_elas_test.append(accuracy_tit_test_elas)\n",
    "accu_elas_test.append(accuracy_des_test_elas)\n",
    "accu_elas_test.append(accuracy_num_test_elas)\n",
    "\n",
    "print(accu_elas_test, mse_elas_test)"
   ]
  },
  {
   "cell_type": "markdown",
   "id": "cc060384-a25f-404c-816f-959c5fc03468",
   "metadata": {},
   "source": [
    "## OLS - test"
   ]
  },
  {
   "cell_type": "code",
   "execution_count": 420,
   "id": "129c819a-2a66-4df1-bad8-ffb832a07aa2",
   "metadata": {},
   "outputs": [],
   "source": [
    "#Title pipeline\n",
    "pipe_tit_ols_best = make_pipeline(TfidfVectorizer(),\n",
    "                                LinearRegression())\n",
    "\n",
    "#Description pipeline\n",
    "pipe_des_ols_best = make_pipeline(TfidfVectorizer(),\n",
    "                                LinearRegression())\n",
    "\n",
    "#Numerical pipeline\n",
    "pipe_num_ols_best = make_pipeline(\n",
    "                            PolynomialFeatures(degree =para_ols['polynomialfeatures__degree'], include_bias=True),\n",
    "                            StandardScaler(),\n",
    "                            LinearRegression())"
   ]
  },
  {
   "cell_type": "code",
   "execution_count": 421,
   "id": "f787ccbe-62eb-4204-a460-b392fd3c7c65",
   "metadata": {},
   "outputs": [
    {
     "data": {
      "text/html": [
       "<style>#sk-container-id-20 {color: black;}#sk-container-id-20 pre{padding: 0;}#sk-container-id-20 div.sk-toggleable {background-color: white;}#sk-container-id-20 label.sk-toggleable__label {cursor: pointer;display: block;width: 100%;margin-bottom: 0;padding: 0.3em;box-sizing: border-box;text-align: center;}#sk-container-id-20 label.sk-toggleable__label-arrow:before {content: \"▸\";float: left;margin-right: 0.25em;color: #696969;}#sk-container-id-20 label.sk-toggleable__label-arrow:hover:before {color: black;}#sk-container-id-20 div.sk-estimator:hover label.sk-toggleable__label-arrow:before {color: black;}#sk-container-id-20 div.sk-toggleable__content {max-height: 0;max-width: 0;overflow: hidden;text-align: left;background-color: #f0f8ff;}#sk-container-id-20 div.sk-toggleable__content pre {margin: 0.2em;color: black;border-radius: 0.25em;background-color: #f0f8ff;}#sk-container-id-20 input.sk-toggleable__control:checked~div.sk-toggleable__content {max-height: 200px;max-width: 100%;overflow: auto;}#sk-container-id-20 input.sk-toggleable__control:checked~label.sk-toggleable__label-arrow:before {content: \"▾\";}#sk-container-id-20 div.sk-estimator input.sk-toggleable__control:checked~label.sk-toggleable__label {background-color: #d4ebff;}#sk-container-id-20 div.sk-label input.sk-toggleable__control:checked~label.sk-toggleable__label {background-color: #d4ebff;}#sk-container-id-20 input.sk-hidden--visually {border: 0;clip: rect(1px 1px 1px 1px);clip: rect(1px, 1px, 1px, 1px);height: 1px;margin: -1px;overflow: hidden;padding: 0;position: absolute;width: 1px;}#sk-container-id-20 div.sk-estimator {font-family: monospace;background-color: #f0f8ff;border: 1px dotted black;border-radius: 0.25em;box-sizing: border-box;margin-bottom: 0.5em;}#sk-container-id-20 div.sk-estimator:hover {background-color: #d4ebff;}#sk-container-id-20 div.sk-parallel-item::after {content: \"\";width: 100%;border-bottom: 1px solid gray;flex-grow: 1;}#sk-container-id-20 div.sk-label:hover label.sk-toggleable__label {background-color: #d4ebff;}#sk-container-id-20 div.sk-serial::before {content: \"\";position: absolute;border-left: 1px solid gray;box-sizing: border-box;top: 0;bottom: 0;left: 50%;z-index: 0;}#sk-container-id-20 div.sk-serial {display: flex;flex-direction: column;align-items: center;background-color: white;padding-right: 0.2em;padding-left: 0.2em;position: relative;}#sk-container-id-20 div.sk-item {position: relative;z-index: 1;}#sk-container-id-20 div.sk-parallel {display: flex;align-items: stretch;justify-content: center;background-color: white;position: relative;}#sk-container-id-20 div.sk-item::before, #sk-container-id-20 div.sk-parallel-item::before {content: \"\";position: absolute;border-left: 1px solid gray;box-sizing: border-box;top: 0;bottom: 0;left: 50%;z-index: -1;}#sk-container-id-20 div.sk-parallel-item {display: flex;flex-direction: column;z-index: 1;position: relative;background-color: white;}#sk-container-id-20 div.sk-parallel-item:first-child::after {align-self: flex-end;width: 50%;}#sk-container-id-20 div.sk-parallel-item:last-child::after {align-self: flex-start;width: 50%;}#sk-container-id-20 div.sk-parallel-item:only-child::after {width: 0;}#sk-container-id-20 div.sk-dashed-wrapped {border: 1px dashed gray;margin: 0 0.4em 0.5em 0.4em;box-sizing: border-box;padding-bottom: 0.4em;background-color: white;}#sk-container-id-20 div.sk-label label {font-family: monospace;font-weight: bold;display: inline-block;line-height: 1.2em;}#sk-container-id-20 div.sk-label-container {text-align: center;}#sk-container-id-20 div.sk-container {/* jupyter's `normalize.less` sets `[hidden] { display: none; }` but bootstrap.min.css set `[hidden] { display: none !important; }` so we also need the `!important` here to be able to override the default hidden behavior on the sphinx rendered scikit-learn.org. See: https://github.com/scikit-learn/scikit-learn/issues/21755 */display: inline-block !important;position: relative;}#sk-container-id-20 div.sk-text-repr-fallback {display: none;}</style><div id=\"sk-container-id-20\" class=\"sk-top-container\"><div class=\"sk-text-repr-fallback\"><pre>Pipeline(steps=[(&#x27;polynomialfeatures&#x27;, PolynomialFeatures(degree=1)),\n",
       "                (&#x27;standardscaler&#x27;, StandardScaler()),\n",
       "                (&#x27;linearregression&#x27;, LinearRegression())])</pre><b>In a Jupyter environment, please rerun this cell to show the HTML representation or trust the notebook. <br />On GitHub, the HTML representation is unable to render, please try loading this page with nbviewer.org.</b></div><div class=\"sk-container\" hidden><div class=\"sk-item sk-dashed-wrapped\"><div class=\"sk-label-container\"><div class=\"sk-label sk-toggleable\"><input class=\"sk-toggleable__control sk-hidden--visually\" id=\"sk-estimator-id-88\" type=\"checkbox\" ><label for=\"sk-estimator-id-88\" class=\"sk-toggleable__label sk-toggleable__label-arrow\">Pipeline</label><div class=\"sk-toggleable__content\"><pre>Pipeline(steps=[(&#x27;polynomialfeatures&#x27;, PolynomialFeatures(degree=1)),\n",
       "                (&#x27;standardscaler&#x27;, StandardScaler()),\n",
       "                (&#x27;linearregression&#x27;, LinearRegression())])</pre></div></div></div><div class=\"sk-serial\"><div class=\"sk-item\"><div class=\"sk-estimator sk-toggleable\"><input class=\"sk-toggleable__control sk-hidden--visually\" id=\"sk-estimator-id-89\" type=\"checkbox\" ><label for=\"sk-estimator-id-89\" class=\"sk-toggleable__label sk-toggleable__label-arrow\">PolynomialFeatures</label><div class=\"sk-toggleable__content\"><pre>PolynomialFeatures(degree=1)</pre></div></div></div><div class=\"sk-item\"><div class=\"sk-estimator sk-toggleable\"><input class=\"sk-toggleable__control sk-hidden--visually\" id=\"sk-estimator-id-90\" type=\"checkbox\" ><label for=\"sk-estimator-id-90\" class=\"sk-toggleable__label sk-toggleable__label-arrow\">StandardScaler</label><div class=\"sk-toggleable__content\"><pre>StandardScaler()</pre></div></div></div><div class=\"sk-item\"><div class=\"sk-estimator sk-toggleable\"><input class=\"sk-toggleable__control sk-hidden--visually\" id=\"sk-estimator-id-91\" type=\"checkbox\" ><label for=\"sk-estimator-id-91\" class=\"sk-toggleable__label sk-toggleable__label-arrow\">LinearRegression</label><div class=\"sk-toggleable__content\"><pre>LinearRegression()</pre></div></div></div></div></div></div></div>"
      ],
      "text/plain": [
       "Pipeline(steps=[('polynomialfeatures', PolynomialFeatures(degree=1)),\n",
       "                ('standardscaler', StandardScaler()),\n",
       "                ('linearregression', LinearRegression())])"
      ]
     },
     "execution_count": 421,
     "metadata": {},
     "output_type": "execute_result"
    }
   ],
   "source": [
    "# Fit on training data\n",
    "# Fit title words\n",
    "pipe_tit_ols_best.fit(X_dev_tit, y_dev)\n",
    "\n",
    "# Fit description words\n",
    "pipe_des_ols_best.fit(X_dev_des, y_dev)\n",
    "\n",
    "# Fit numerical values\n",
    "pipe_num_ols_best.fit(X_dev_num, y_dev)"
   ]
  },
  {
   "cell_type": "code",
   "execution_count": 422,
   "id": "1bba4f1f-b57d-4bf6-a091-453d04f3956d",
   "metadata": {},
   "outputs": [
    {
     "name": "stdout",
     "output_type": "stream",
     "text": [
      "[0.1111111111111111, 0.1388888888888889, 0.1111111111111111] [0.07931625960274152, 0.07973729900887663, 0.07621951485177508]\n"
     ]
    }
   ],
   "source": [
    "#Predict test data\n",
    "accu_ols_test = []\n",
    "mse_ols_test = []\n",
    "\n",
    "# Words: \n",
    "y_hat_tit_test_ols = pipe_tit_elas_best.predict(X_test_tit)\n",
    "MSE_tit_test_ols = mse(y_hat_tit_test_ols,y_test)\n",
    "accuracy_tit_test_ols =  np.mean(y_test.round(1)==y_hat_tit_test_ols.round(1)) \n",
    "\n",
    "y_hat_des_test_ols = pipe_des_elas_best.predict(X_test_des)\n",
    "MSE_des_test_ols = mse(y_hat_des_test_ols,y_test)\n",
    "accuracy_des_test_ols =  np.mean(y_test.round(1)==y_hat_des_test_ols.round(1)) \n",
    "\n",
    "#numerical variables\n",
    "\n",
    "y_hat_num_test_ols = pipe_num_elas_best.predict(X_test_num)\n",
    "MSE_num_test_ols = mse(y_hat_num_test_ols,y_test)\n",
    "accuracy_num_test_ols =  np.mean(y_test.round(1)==y_hat_num_test_ols.round(1)) \n",
    "\n",
    "#Append MSE and accuracy to list\n",
    "mse_ols_test.append(MSE_tit_test_ols)\n",
    "mse_ols_test.append(MSE_des_test_ols)\n",
    "mse_ols_test.append(MSE_num_test_ols)\n",
    "\n",
    "accu_ols_test.append(accuracy_tit_test_ols)\n",
    "accu_ols_test.append(accuracy_des_test_ols)\n",
    "accu_ols_test.append(accuracy_num_test_ols)\n",
    "\n",
    "print(accu_ols_test, mse_ols_test)"
   ]
  },
  {
   "cell_type": "markdown",
   "id": "cbfb67c1-9d47-4ea5-a337-992c384ce959",
   "metadata": {},
   "source": [
    "## Learning curves"
   ]
  },
  {
   "cell_type": "code",
   "execution_count": 484,
   "id": "ca53e11f-75ab-49a1-bec5-ff2b9361730b",
   "metadata": {},
   "outputs": [],
   "source": [
    "#Lists\n",
    "x_data = [X_dev_tit, X_dev_des, X_dev_num]\n",
    "Title = ['title', 'description', 'numerical variables']"
   ]
  },
  {
   "cell_type": "code",
   "execution_count": 499,
   "id": "d2509173-5cf7-4f81-9154-65d1d9fc922d",
   "metadata": {},
   "outputs": [
    {
     "data": {
      "image/png": "[encoded data removed]",
      "text/plain": [
       "<Figure size 1440x216 with 3 Axes>"
      ]
     },
     "metadata": {
      "needs_background": "light"
     },
     "output_type": "display_data"
    }
   ],
   "source": [
    "#Lasso\n",
    "best_pipeline_lasso = [pipe_tit_las_best, pipe_des_las_best, pipe_num_las_best]\n",
    "\n",
    "f_lasso, ax1 = plt.subplots(1, 3, figsize=(20,3))\n",
    "\n",
    "for i, model1 in enumerate(best_pipeline_lasso):\n",
    "    train_sizes, train_scores, test_scores = \\\n",
    "        learning_curve(estimator=model1,\n",
    "                   X=x_data[i],\n",
    "                   y=y_dev,\n",
    "                   train_sizes=np.arange(0.05, 1.05, .05),\n",
    "                   scoring='neg_mean_squared_error',                 \n",
    "                   cv=3)\n",
    "    \n",
    "    ax1[i].fill_between(train_sizes, -test_scores.min(1), -test_scores.max(1), alpha=0.25, label ='Validation', color='blue')\n",
    "    ax1[i].fill_between(train_sizes, -train_scores.min(1), -train_scores.max(1),  alpha=0.25, label='Train', color='orange')\n",
    "\n",
    "    ax1[i].set_title(f'Lasso - {Title[i]}')\n",
    "\n",
    "ax1[0].set_ylabel('Mean squared error')\n",
    "ax1[2].legend();"
   ]
  },
  {
   "cell_type": "code",
   "execution_count": 500,
   "id": "d68c2d50-6397-4203-b47c-921ea3848344",
   "metadata": {},
   "outputs": [
    {
     "data": {
      "image/png": "[encoded data removed]",
      "text/plain": [
       "<Figure size 1440x216 with 3 Axes>"
      ]
     },
     "metadata": {
      "needs_background": "light"
     },
     "output_type": "display_data"
    }
   ],
   "source": [
    "#Elastic net\n",
    "best_pipeline_elastic = [pipe_tit_elas_best, pipe_des_elas_best, pipe_num_elas_best]\n",
    "\n",
    "f_elas, ax2 = plt.subplots(1, 3, figsize=(20,3))\n",
    "\n",
    "for j, model2 in enumerate(best_pipeline_elastic):\n",
    "    train_sizes, train_scores, test_scores = \\\n",
    "        learning_curve(estimator=model2,\n",
    "                   X=x_data[j],\n",
    "                   y=y_dev,\n",
    "                   train_sizes=np.arange(0.05, 1.05, .05),\n",
    "                   scoring='neg_mean_squared_error',                 \n",
    "                   cv=3)\n",
    "    \n",
    "    ax2[j].fill_between(train_sizes, -test_scores.min(1), -test_scores.max(1), alpha=0.25, label ='Validation', color='blue')\n",
    "    ax2[j].fill_between(train_sizes, -train_scores.min(1), -train_scores.max(1),  alpha=0.25, label='Train', color='orange')\n",
    "\n",
    "    ax2[j].set_title(f'Elastic - {Title[j]}')\n",
    "\n",
    "ax2[0].set_ylabel('Mean squared error')\n",
    "ax2[2].legend();"
   ]
  },
  {
   "cell_type": "code",
   "execution_count": 501,
   "id": "ff91ffa9-7dd1-40d4-8ab8-d29474e934f5",
   "metadata": {},
   "outputs": [
    {
     "data": {
      "image/png": "[encoded data removed]",
      "text/plain": [
       "<Figure size 1440x216 with 3 Axes>"
      ]
     },
     "metadata": {
      "needs_background": "light"
     },
     "output_type": "display_data"
    }
   ],
   "source": [
    "#OLS\n",
    "best_pipeline_ols = [pipe_tit_ols_best, pipe_des_ols_best, pipe_num_ols_best]\n",
    "\n",
    "f_ols, ax3 = plt.subplots(1, 3, figsize=(20,3))\n",
    "\n",
    "for k, model3 in enumerate(best_pipeline_ols):\n",
    "    train_sizes, train_scores, test_scores = \\\n",
    "        learning_curve(estimator=model3,\n",
    "                   X=x_data[k],\n",
    "                   y=y_dev,\n",
    "                   train_sizes=np.arange(0.05, 1.05, .05),\n",
    "                   scoring='neg_mean_squared_error',                 \n",
    "                   cv=3)\n",
    "    \n",
    "    ax3[k].fill_between(train_sizes, -test_scores.min(1), -test_scores.max(1), alpha=0.25, label ='Validation', color='blue')\n",
    "    ax3[k].fill_between(train_sizes, -train_scores.min(1), -train_scores.max(1),  alpha=0.25, label='Train', color='orange')\n",
    "\n",
    "    ax3[k].set_title(f'OLS - {Title[k]}')\n",
    "\n",
    "ax3[0].set_ylabel('Mean squared error')\n",
    "ax3[2].legend();"
   ]
  },
  {
   "cell_type": "markdown",
   "id": "a2aaaa7d-0eb6-4f6a-8e28-88f7902b022b",
   "metadata": {},
   "source": [
    "## Validation curves"
   ]
  },
  {
   "cell_type": "code",
   "execution_count": null,
   "id": "db74ccce-e4eb-490e-af20-9aa9668ab14f",
   "metadata": {},
   "outputs": [],
   "source": [
    "#Lists\n",
    "x_data = [X_dev_tit, X_dev_des, X_dev_num]\n",
    "Title = ['title', 'description', 'numerical variables']"
   ]
  },
  {
   "cell_type": "code",
   "execution_count": 554,
   "id": "85d68ee7-514b-4b58-a05c-6c1cc4ed7107",
   "metadata": {},
   "outputs": [
    {
     "name": "stdout",
     "output_type": "stream",
     "text": [
      "lambda\n",
      "0.046416    0.063082\n",
      "Name: Validation - title, dtype: float64\n",
      "lambda\n",
      "0.046416    0.063082\n",
      "Name: Validation - description, dtype: float64\n",
      "lambda\n",
      "0.005995    0.061796\n",
      "Name: Validation - numerical variables, dtype: float64\n"
     ]
    },
    {
     "data": {
      "text/html": [
       "<div>\n",
       "<style scoped>\n",
       "    .dataframe tbody tr th:only-of-type {\n",
       "        vertical-align: middle;\n",
       "    }\n",
       "\n",
       "    .dataframe tbody tr th {\n",
       "        vertical-align: top;\n",
       "    }\n",
       "\n",
       "    .dataframe thead th {\n",
       "        text-align: right;\n",
       "    }\n",
       "</style>\n",
       "<table border=\"1\" class=\"dataframe\">\n",
       "  <thead>\n",
       "    <tr style=\"text-align: right;\">\n",
       "      <th></th>\n",
       "      <th>Train - title</th>\n",
       "      <th>Validation - title</th>\n",
       "      <th>Train - description</th>\n",
       "      <th>Validation - description</th>\n",
       "      <th>Train - numerical variables</th>\n",
       "      <th>Validation - numerical variables</th>\n",
       "    </tr>\n",
       "    <tr>\n",
       "      <th>lambda</th>\n",
       "      <th></th>\n",
       "      <th></th>\n",
       "      <th></th>\n",
       "      <th></th>\n",
       "      <th></th>\n",
       "      <th></th>\n",
       "    </tr>\n",
       "  </thead>\n",
       "  <tbody>\n",
       "    <tr>\n",
       "      <th>0.000100</th>\n",
       "      <td>0.000079</td>\n",
       "      <td>0.082192</td>\n",
       "      <td>0.000154</td>\n",
       "      <td>0.072060</td>\n",
       "      <td>0.055870</td>\n",
       "      <td>0.065015</td>\n",
       "    </tr>\n",
       "    <tr>\n",
       "      <th>0.000774</th>\n",
       "      <td>0.003959</td>\n",
       "      <td>0.076593</td>\n",
       "      <td>0.007688</td>\n",
       "      <td>0.063288</td>\n",
       "      <td>0.055982</td>\n",
       "      <td>0.063422</td>\n",
       "    </tr>\n",
       "    <tr>\n",
       "      <th>0.005995</th>\n",
       "      <td>0.056845</td>\n",
       "      <td>0.067127</td>\n",
       "      <td>0.060817</td>\n",
       "      <td>0.063085</td>\n",
       "      <td>0.056576</td>\n",
       "      <td>0.061796</td>\n",
       "    </tr>\n",
       "    <tr>\n",
       "      <th>0.046416</th>\n",
       "      <td>0.060826</td>\n",
       "      <td>0.063082</td>\n",
       "      <td>0.060826</td>\n",
       "      <td>0.063082</td>\n",
       "      <td>0.059158</td>\n",
       "      <td>0.062934</td>\n",
       "    </tr>\n",
       "    <tr>\n",
       "      <th>0.359381</th>\n",
       "      <td>0.060826</td>\n",
       "      <td>0.063082</td>\n",
       "      <td>0.060826</td>\n",
       "      <td>0.063082</td>\n",
       "      <td>0.060826</td>\n",
       "      <td>0.063082</td>\n",
       "    </tr>\n",
       "    <tr>\n",
       "      <th>2.782559</th>\n",
       "      <td>0.060826</td>\n",
       "      <td>0.063082</td>\n",
       "      <td>0.060826</td>\n",
       "      <td>0.063082</td>\n",
       "      <td>0.060826</td>\n",
       "      <td>0.063082</td>\n",
       "    </tr>\n",
       "    <tr>\n",
       "      <th>21.544347</th>\n",
       "      <td>0.060826</td>\n",
       "      <td>0.063082</td>\n",
       "      <td>0.060826</td>\n",
       "      <td>0.063082</td>\n",
       "      <td>0.060826</td>\n",
       "      <td>0.063082</td>\n",
       "    </tr>\n",
       "    <tr>\n",
       "      <th>166.810054</th>\n",
       "      <td>0.060826</td>\n",
       "      <td>0.063082</td>\n",
       "      <td>0.060826</td>\n",
       "      <td>0.063082</td>\n",
       "      <td>0.060826</td>\n",
       "      <td>0.063082</td>\n",
       "    </tr>\n",
       "    <tr>\n",
       "      <th>1291.549665</th>\n",
       "      <td>0.060826</td>\n",
       "      <td>0.063082</td>\n",
       "      <td>0.060826</td>\n",
       "      <td>0.063082</td>\n",
       "      <td>0.060826</td>\n",
       "      <td>0.063082</td>\n",
       "    </tr>\n",
       "    <tr>\n",
       "      <th>10000.000000</th>\n",
       "      <td>0.060826</td>\n",
       "      <td>0.063082</td>\n",
       "      <td>0.060826</td>\n",
       "      <td>0.063082</td>\n",
       "      <td>0.060826</td>\n",
       "      <td>0.063082</td>\n",
       "    </tr>\n",
       "  </tbody>\n",
       "</table>\n",
       "</div>"
      ],
      "text/plain": [
       "              Train - title  Validation - title  Train - description  \\\n",
       "lambda                                                                 \n",
       "0.000100           0.000079            0.082192             0.000154   \n",
       "0.000774           0.003959            0.076593             0.007688   \n",
       "0.005995           0.056845            0.067127             0.060817   \n",
       "0.046416           0.060826            0.063082             0.060826   \n",
       "0.359381           0.060826            0.063082             0.060826   \n",
       "2.782559           0.060826            0.063082             0.060826   \n",
       "21.544347          0.060826            0.063082             0.060826   \n",
       "166.810054         0.060826            0.063082             0.060826   \n",
       "1291.549665        0.060826            0.063082             0.060826   \n",
       "10000.000000       0.060826            0.063082             0.060826   \n",
       "\n",
       "              Validation - description  Train - numerical variables  \\\n",
       "lambda                                                                \n",
       "0.000100                      0.072060                     0.055870   \n",
       "0.000774                      0.063288                     0.055982   \n",
       "0.005995                      0.063085                     0.056576   \n",
       "0.046416                      0.063082                     0.059158   \n",
       "0.359381                      0.063082                     0.060826   \n",
       "2.782559                      0.063082                     0.060826   \n",
       "21.544347                     0.063082                     0.060826   \n",
       "166.810054                    0.063082                     0.060826   \n",
       "1291.549665                   0.063082                     0.060826   \n",
       "10000.000000                  0.063082                     0.060826   \n",
       "\n",
       "              Validation - numerical variables  \n",
       "lambda                                          \n",
       "0.000100                              0.065015  \n",
       "0.000774                              0.063422  \n",
       "0.005995                              0.061796  \n",
       "0.046416                              0.062934  \n",
       "0.359381                              0.063082  \n",
       "2.782559                              0.063082  \n",
       "21.544347                             0.063082  \n",
       "166.810054                            0.063082  \n",
       "1291.549665                           0.063082  \n",
       "10000.000000                          0.063082  "
      ]
     },
     "execution_count": 554,
     "metadata": {},
     "output_type": "execute_result"
    },
    {
     "data": {
      "image/png": "[encoded data removed]",
      "text/plain": [
       "<Figure size 720x432 with 1 Axes>"
      ]
     },
     "metadata": {
      "needs_background": "light"
     },
     "output_type": "display_data"
    },
    {
     "data": {
      "image/png": "[encoded data removed]",
      "text/plain": [
       "<Figure size 720x432 with 1 Axes>"
      ]
     },
     "metadata": {
      "needs_background": "light"
     },
     "output_type": "display_data"
    },
    {
     "data": {
      "image/png": "[encoded data removed]",
      "text/plain": [
       "<Figure size 720x432 with 1 Axes>"
      ]
     },
     "metadata": {
      "needs_background": "light"
     },
     "output_type": "display_data"
    }
   ],
   "source": [
    "#Lasso\n",
    "best_pipeline_lasso = [pipe_tit_las_best, pipe_des_las_best, pipe_num_las_best]\n",
    "\n",
    "results_lasso_df = pd.DataFrame()\n",
    "\n",
    "for i, model in enumerate(best_pipeline_lasso):\n",
    "\n",
    "    train_scores, test_scores = \\\n",
    "        validation_curve(estimator=model,\n",
    "                     X=x_data[i],\n",
    "                     y=y_dev,\n",
    "                     param_name='lasso__alpha', #built-in name of hyperparameter\n",
    "                     param_range=lambdas, #values to consider\n",
    "                     scoring='neg_mean_squared_error',                 \n",
    "                     cv=3)\n",
    "\n",
    "    # OBTAIN MSE FOR DIFFERENT LAMBDAS AND PRINT BEST\n",
    "    mse_score = pd.DataFrame({'lambda':lambdas,\n",
    "                              f'Train - {Title[i]}':-train_scores.mean(axis=1),\n",
    "                              f'Validation - {Title[i]}':-test_scores.mean(axis=1)})\\\n",
    "                              .set_index('lambda')   \n",
    "    \n",
    "    results_lasso_df = pd.concat([results_lasso_df, mse_score], axis=1)\n",
    "    print(mse_score[f'Validation - {Title[i]}'].nsmallest(1))\n",
    "    \n",
    "    mse_score.plot(logx=True, figsize=(10,6));\n",
    "\n",
    "results_lasso_df"
   ]
  },
  {
   "cell_type": "code",
   "execution_count": 556,
   "id": "eef621e7-2373-4f8c-8321-9af5c85ae438",
   "metadata": {},
   "outputs": [
    {
     "name": "stdout",
     "output_type": "stream",
     "text": [
      "poly\n",
      "1    0.061796\n",
      "Name: Validation, dtype: float64\n"
     ]
    },
    {
     "data": {
      "text/html": [
       "<div>\n",
       "<style scoped>\n",
       "    .dataframe tbody tr th:only-of-type {\n",
       "        vertical-align: middle;\n",
       "    }\n",
       "\n",
       "    .dataframe tbody tr th {\n",
       "        vertical-align: top;\n",
       "    }\n",
       "\n",
       "    .dataframe thead th {\n",
       "        text-align: right;\n",
       "    }\n",
       "</style>\n",
       "<table border=\"1\" class=\"dataframe\">\n",
       "  <thead>\n",
       "    <tr style=\"text-align: right;\">\n",
       "      <th></th>\n",
       "      <th>Train</th>\n",
       "      <th>Validation</th>\n",
       "    </tr>\n",
       "    <tr>\n",
       "      <th>poly</th>\n",
       "      <th></th>\n",
       "      <th></th>\n",
       "    </tr>\n",
       "  </thead>\n",
       "  <tbody>\n",
       "    <tr>\n",
       "      <th>1</th>\n",
       "      <td>0.056576</td>\n",
       "      <td>0.061796</td>\n",
       "    </tr>\n",
       "    <tr>\n",
       "      <th>2</th>\n",
       "      <td>0.054604</td>\n",
       "      <td>0.078696</td>\n",
       "    </tr>\n",
       "  </tbody>\n",
       "</table>\n",
       "</div>"
      ],
      "text/plain": [
       "         Train  Validation\n",
       "poly                      \n",
       "1     0.056576    0.061796\n",
       "2     0.054604    0.078696"
      ]
     },
     "execution_count": 556,
     "metadata": {},
     "output_type": "execute_result"
    }
   ],
   "source": [
    "#Polynomial features - lasso (num)\n",
    "train_scores, test_scores = \\\n",
    "    validation_curve(estimator=pipe_num_las_best,\n",
    "                     X=X_dev_num,\n",
    "                     y=y_dev,\n",
    "                     param_name='polynomialfeatures__degree', #built-in name of hyperparameter\n",
    "                     param_range=degrees, #values to consider\n",
    "                     scoring='neg_mean_squared_error',                 \n",
    "                     cv=3)\n",
    "\n",
    "# OBTAIN MSE FOR DIFFERENT LAMBDAS AND PRINT BEST\n",
    "mse_score_num_las = pd.DataFrame({'Train':-train_scores.mean(axis=1),\n",
    "                          'Validation':-test_scores.mean(axis=1),\n",
    "                          'poly':degrees})\\\n",
    "              .set_index('poly')   \n",
    "print(mse_score_num_las.Validation.nsmallest(1))\n",
    "\n",
    "mse_score_num_las"
   ]
  },
  {
   "cell_type": "code",
   "execution_count": 557,
   "id": "cbeeed8d-b5fa-45cd-b905-9c15e62bfa52",
   "metadata": {},
   "outputs": [
    {
     "name": "stdout",
     "output_type": "stream",
     "text": [
      "poly\n",
      "1    0.065278\n",
      "Name: Validation, dtype: float64\n"
     ]
    },
    {
     "data": {
      "text/html": [
       "<div>\n",
       "<style scoped>\n",
       "    .dataframe tbody tr th:only-of-type {\n",
       "        vertical-align: middle;\n",
       "    }\n",
       "\n",
       "    .dataframe tbody tr th {\n",
       "        vertical-align: top;\n",
       "    }\n",
       "\n",
       "    .dataframe thead th {\n",
       "        text-align: right;\n",
       "    }\n",
       "</style>\n",
       "<table border=\"1\" class=\"dataframe\">\n",
       "  <thead>\n",
       "    <tr style=\"text-align: right;\">\n",
       "      <th></th>\n",
       "      <th>Train</th>\n",
       "      <th>Validation</th>\n",
       "    </tr>\n",
       "    <tr>\n",
       "      <th>poly</th>\n",
       "      <th></th>\n",
       "      <th></th>\n",
       "    </tr>\n",
       "  </thead>\n",
       "  <tbody>\n",
       "    <tr>\n",
       "      <th>1</th>\n",
       "      <td>0.055868</td>\n",
       "      <td>0.065278</td>\n",
       "    </tr>\n",
       "    <tr>\n",
       "      <th>2</th>\n",
       "      <td>0.044895</td>\n",
       "      <td>1.015466</td>\n",
       "    </tr>\n",
       "  </tbody>\n",
       "</table>\n",
       "</div>"
      ],
      "text/plain": [
       "         Train  Validation\n",
       "poly                      \n",
       "1     0.055868    0.065278\n",
       "2     0.044895    1.015466"
      ]
     },
     "execution_count": 557,
     "metadata": {},
     "output_type": "execute_result"
    }
   ],
   "source": [
    "#Polynomial features - OLS (num)\n",
    "train_scores, test_scores = \\\n",
    "    validation_curve(estimator=pipe_num_ols_best,\n",
    "                     X=X_dev_num,\n",
    "                     y=y_dev,\n",
    "                     param_name='polynomialfeatures__degree', #built-in name of hyperparameter\n",
    "                     param_range=degrees, #values to consider\n",
    "                     scoring='neg_mean_squared_error',                 \n",
    "                     cv=3)\n",
    "\n",
    "# OBTAIN MSE FOR DIFFERENT LAMBDAS AND PRINT BEST\n",
    "mse_score_num_ols = pd.DataFrame({'Train':-train_scores.mean(axis=1),\n",
    "                          'Validation':-test_scores.mean(axis=1),\n",
    "                          'poly':degrees})\\\n",
    "              .set_index('poly')   \n",
    "print(mse_score_num_ols.Validation.nsmallest(1))\n",
    "\n",
    "mse_score_num_ols"
   ]
  },
  {
   "cell_type": "code",
   "execution_count": null,
   "id": "db8fb833-f0d1-442c-a216-00abedae3c81",
   "metadata": {},
   "outputs": [],
   "source": []
  }
 ],
 "metadata": {
  "kernelspec": {
   "display_name": "Python 3",
   "language": "python",
   "name": "python3"
  },
  "language_info": {
   "codemirror_mode": {
    "name": "ipython",
    "version": 3
   },
   "file_extension": ".py",
   "mimetype": "text/x-python",
   "name": "python",
   "nbconvert_exporter": "python",
   "pygments_lexer": "ipython3",
   "version": "3.8.8"
  }
 },
 "nbformat": 4,
 "nbformat_minor": 5
}
