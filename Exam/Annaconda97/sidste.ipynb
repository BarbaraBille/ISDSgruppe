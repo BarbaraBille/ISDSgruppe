{
 "cells": [
  {
   "cell_type": "code",
   "execution_count": 2,
   "id": "4a2a58a2-afd8-4978-a21b-3b8cbe298c4b",
   "metadata": {
    "tags": []
   },
   "outputs": [],
   "source": [
    "import requests\n",
    "import time\n",
    "import tqdm\n",
    "import pandas as pd\n",
    "import os\n",
    "import json\n",
    "from bs4 import BeautifulSoup\n",
    "import pandas as pd\n",
    "from selenium import webdriver\n",
    "from webdriver_manager.chrome import ChromeDriverManager\n",
    "from selenium.webdriver.common.by import By\n",
    "from selenium.webdriver.common.keys import Keys\n",
    "import re\n",
    "import time\n",
    "from pathlib import Path\n",
    "\n",
    "fp_data = Path.cwd() / \"data\"  \n",
    "# Use the Path object to actually create the subfolder\n",
    "Path.mkdir(fp_data, exist_ok=True) "
   ]
  },
  {
   "cell_type": "code",
   "execution_count": 3,
   "id": "b77c7554-ab88-4c97-b43a-6fe43866d2dd",
   "metadata": {
    "tags": []
   },
   "outputs": [
    {
     "name": "stderr",
     "output_type": "stream",
     "text": [
      "100%|█████████████████████████████████████████| 100/100 [11:47<00:00,  7.08s/it]\n"
     ]
    },
    {
     "data": {
      "text/plain": [
       "1980"
      ]
     },
     "execution_count": 3,
     "metadata": {},
     "output_type": "execute_result"
    }
   ],
   "source": [
    "html=[]\n",
    "\n",
    "for page in tqdm.tqdm(range(1,101)):\n",
    "    url = f'https://www.goodreads.com/search?page={page}&utf8=%E2%9C%93&query=economics'\n",
    "    response = requests.get(url, headers={'name':'Anna Nielsen', 'Universitet': 'UNI of Copenhagen','Message': 'Data collecting for exam project in Social Data science', 'email':'djb713@alumni.ku.dk'})\n",
    "    soup = BeautifulSoup(response.content, 'lxml')\n",
    "    a_links = soup.find_all('a', class_='bookTitle')\n",
    "    html.append(a_links)\n",
    "    \n",
    "    time.sleep(5)\n",
    "    \n",
    "html\n",
    "\n",
    "html2 = [item for sublist in html for item in sublist]\n",
    "html2\n",
    "\n",
    "\n",
    "liste2=[]\n",
    "for i in html2:\n",
    "    a_links2=i.get('href')\n",
    "    liste2.append('https://www.goodreads.com'+a_links2)\n",
    "    \n",
    "len(liste2)"
   ]
  },
  {
   "cell_type": "code",
   "execution_count": 19,
   "id": "ae01ab24-33f6-4183-905e-522bd91206b1",
   "metadata": {
    "tags": []
   },
   "outputs": [
    {
     "name": "stderr",
     "output_type": "stream",
     "text": [
      "  0%|                                                  | 0/1980 [00:00<?, ?it/s]"
     ]
    },
    {
     "name": "stdout",
     "output_type": "stream",
     "text": [
      "1\n"
     ]
    },
    {
     "name": "stderr",
     "output_type": "stream",
     "text": [
      "  0%|                                        | 1/1980 [00:07<3:57:19,  7.20s/it]"
     ]
    },
    {
     "name": "stdout",
     "output_type": "stream",
     "text": [
      "2\n",
      "fejl\n"
     ]
    },
    {
     "name": "stderr",
     "output_type": "stream",
     "text": [
      "  0%|                                        | 2/1980 [00:21<6:08:01, 11.16s/it]"
     ]
    },
    {
     "name": "stdout",
     "output_type": "stream",
     "text": [
      "3\n",
      "fejl\n",
      "fejl\n",
      "fejl\n",
      "fejl\n"
     ]
    },
    {
     "name": "stderr",
     "output_type": "stream",
     "text": [
      "  0%|                                       | 3/1980 [00:52<11:04:33, 20.17s/it]"
     ]
    },
    {
     "name": "stdout",
     "output_type": "stream",
     "text": [
      "fejl\n",
      "overskredet\n",
      "4\n",
      "fejl\n",
      "fejl\n"
     ]
    },
    {
     "name": "stderr",
     "output_type": "stream",
     "text": [
      "  0%|                                       | 4/1980 [01:14<11:29:33, 20.94s/it]"
     ]
    },
    {
     "name": "stdout",
     "output_type": "stream",
     "text": [
      "5\n"
     ]
    },
    {
     "name": "stderr",
     "output_type": "stream",
     "text": [
      "  0%|                                        | 5/1980 [01:21<8:42:10, 15.86s/it]"
     ]
    },
    {
     "name": "stdout",
     "output_type": "stream",
     "text": [
      "6\n"
     ]
    },
    {
     "name": "stderr",
     "output_type": "stream",
     "text": [
      "  0%|                                        | 6/1980 [01:29<7:22:16, 13.44s/it]"
     ]
    },
    {
     "name": "stdout",
     "output_type": "stream",
     "text": [
      "7\n"
     ]
    },
    {
     "name": "stderr",
     "output_type": "stream",
     "text": [
      "  0%|▏                                       | 7/1980 [01:36<6:09:43, 11.24s/it]"
     ]
    },
    {
     "name": "stdout",
     "output_type": "stream",
     "text": [
      "8\n"
     ]
    },
    {
     "name": "stderr",
     "output_type": "stream",
     "text": [
      "  0%|▏                                       | 8/1980 [01:45<5:44:02, 10.47s/it]"
     ]
    },
    {
     "name": "stdout",
     "output_type": "stream",
     "text": [
      "9\n"
     ]
    },
    {
     "name": "stderr",
     "output_type": "stream",
     "text": [
      "  0%|▏                                       | 9/1980 [01:52<5:11:25,  9.48s/it]"
     ]
    },
    {
     "name": "stdout",
     "output_type": "stream",
     "text": [
      "10\n"
     ]
    },
    {
     "name": "stderr",
     "output_type": "stream",
     "text": [
      "  1%|▏                                      | 10/1980 [01:59<4:48:20,  8.78s/it]"
     ]
    },
    {
     "name": "stdout",
     "output_type": "stream",
     "text": [
      "11\n"
     ]
    },
    {
     "name": "stderr",
     "output_type": "stream",
     "text": [
      "  1%|▏                                      | 11/1980 [02:07<4:38:34,  8.49s/it]"
     ]
    },
    {
     "name": "stdout",
     "output_type": "stream",
     "text": [
      "12\n"
     ]
    },
    {
     "name": "stderr",
     "output_type": "stream",
     "text": [
      "  1%|▏                                      | 12/1980 [02:14<4:25:00,  8.08s/it]"
     ]
    },
    {
     "name": "stdout",
     "output_type": "stream",
     "text": [
      "13\n"
     ]
    },
    {
     "name": "stderr",
     "output_type": "stream",
     "text": [
      "  1%|▎                                      | 13/1980 [02:21<4:16:00,  7.81s/it]"
     ]
    },
    {
     "name": "stdout",
     "output_type": "stream",
     "text": [
      "14\n"
     ]
    },
    {
     "name": "stderr",
     "output_type": "stream",
     "text": [
      "  1%|▎                                      | 13/1980 [02:23<6:03:01, 11.07s/it]\n"
     ]
    },
    {
     "ename": "KeyboardInterrupt",
     "evalue": "",
     "output_type": "error",
     "traceback": [
      "\u001b[0;31m---------------------------------------------------------------------------\u001b[0m",
      "\u001b[0;31mKeyboardInterrupt\u001b[0m                         Traceback (most recent call last)",
      "Cell \u001b[0;32mIn[19], line 15\u001b[0m\n\u001b[1;32m     12\u001b[0m \u001b[38;5;28;01mfor\u001b[39;00m _ \u001b[38;5;129;01min\u001b[39;00m \u001b[38;5;28mrange\u001b[39m(attempts):\n\u001b[1;32m     14\u001b[0m     response2 \u001b[38;5;241m=\u001b[39m requests\u001b[38;5;241m.\u001b[39mget(url, headers\u001b[38;5;241m=\u001b[39m{\u001b[38;5;124m'\u001b[39m\u001b[38;5;124mname\u001b[39m\u001b[38;5;124m'\u001b[39m:\u001b[38;5;124m'\u001b[39m\u001b[38;5;124mBarbara Bille Tagmose\u001b[39m\u001b[38;5;124m'\u001b[39m, \u001b[38;5;124m'\u001b[39m\u001b[38;5;124mUniversitet\u001b[39m\u001b[38;5;124m'\u001b[39m: \u001b[38;5;124m'\u001b[39m\u001b[38;5;124mUNI of Copenhagen\u001b[39m\u001b[38;5;124m'\u001b[39m,\u001b[38;5;124m'\u001b[39m\u001b[38;5;124mBesked\u001b[39m\u001b[38;5;124m'\u001b[39m: \u001b[38;5;124m'\u001b[39m\u001b[38;5;124mData collecting for exam project in Social Data science\u001b[39m\u001b[38;5;124m'\u001b[39m, \u001b[38;5;124m'\u001b[39m\u001b[38;5;124memail\u001b[39m\u001b[38;5;124m'\u001b[39m:\u001b[38;5;124m'\u001b[39m\u001b[38;5;124mwjl145@alumni.ku.dk\u001b[39m\u001b[38;5;124m'\u001b[39m})\n\u001b[0;32m---> 15\u001b[0m     time\u001b[38;5;241m.\u001b[39msleep(\u001b[38;5;241m5\u001b[39m)\n\u001b[1;32m     16\u001b[0m     suppe \u001b[38;5;241m=\u001b[39m BeautifulSoup(response2\u001b[38;5;241m.\u001b[39mcontent, \u001b[38;5;124m'\u001b[39m\u001b[38;5;124mlxml\u001b[39m\u001b[38;5;124m'\u001b[39m) \n\u001b[1;32m     18\u001b[0m     \u001b[38;5;66;03m#Finder elementer i supper \u001b[39;00m\n",
      "\u001b[0;31mKeyboardInterrupt\u001b[0m: "
     ]
    }
   ],
   "source": [
    "bookshehe = pd.DataFrame()\n",
    "\n",
    "loops = 0\n",
    "\n",
    "for url in tqdm.tqdm(liste2):\n",
    "    \n",
    "    loops += 1\n",
    "    print(loops)\n",
    "        \n",
    "    try:\n",
    "        attempts = 5\n",
    "        for _ in range(attempts):\n",
    "            \n",
    "            response2 = requests.get(url, headers={'name':'Barbara Bille Tagmose', 'Universitet': 'UNI of Copenhagen','Besked': 'Data collecting for exam project in Social Data science', 'email':'wjl145@alumni.ku.dk'})\n",
    "            time.sleep(5)\n",
    "            suppe = BeautifulSoup(response2.content, 'lxml') \n",
    "\n",
    "            #Finder elementer i supper \n",
    "            bogtitel_ = suppe.find_all('h1', class_='Text Text__title1')\n",
    "            stjerner_ = suppe.find_all('div', class_='RatingStatistics__rating')\n",
    "            metastatistik_ = suppe.find_all('div', class_='RatingStatistics__meta')\n",
    "            forfattere_ = suppe.find_all('div', class_='ContributorLinksList')\n",
    "            beskrivelse_ = suppe.find_all('div', class_='BookPageMetadataSection__description')\n",
    "            plublishdetails_ = suppe.find_all('div', class_='FeaturedDetails')\n",
    "\n",
    "            #Laver tomme lister \n",
    "            bogtitel = []\n",
    "            Stjerner = []\n",
    "            metastatistik = []\n",
    "            nratings = []\n",
    "            nreviews =[]\n",
    "            forfatter = []\n",
    "            beskrivelse = []\n",
    "            plublishdetails = []\n",
    "            pages = []\n",
    "            published = []\n",
    "\n",
    "            #Laver variable i loops \n",
    "            for i in bogtitel_:\n",
    "                bogtitel = str(i.text)\n",
    "\n",
    "            for i in stjerner_:\n",
    "                Stjerner = float(i.text)\n",
    "\n",
    "            for i in metastatistik_:\n",
    "                metastatistik = i.find_all('span')\n",
    "\n",
    "            for idx, r in enumerate(metastatistik):\n",
    "                if idx == 0:\n",
    "                    ratingsstr = str(r)\n",
    "                    nratings = int(re.sub(r'\\D+','',ratingsstr))\n",
    "                else:\n",
    "                    reviewsstr = str(r)\n",
    "                    nreviews = int(re.sub(r'\\D+','',reviewsstr))\n",
    "\n",
    "            for i in forfattere_:\n",
    "                forfatter.append(i.text)\n",
    "\n",
    "            for i in beskrivelse_:\n",
    "                beskrivelse = str(i.text)\n",
    "\n",
    "            for i in plublishdetails_:\n",
    "                plublishdetails = i.find_all('p')\n",
    "\n",
    "            for idx, i in enumerate(plublishdetails):\n",
    "                if idx < len(plublishdetails)-1:\n",
    "                    pagesstr = str(i.text)\n",
    "                    pages = int(re.sub(r'\\D+','',pagesstr))\n",
    "                else:\n",
    "                    publishedstr = str(i.text)\n",
    "                    publisheddig = str(re.sub(r'\\D+','',publishedstr))\n",
    "                    match = re.search(r'.{4}$', publisheddig)\n",
    "                    published = int(match.group())\n",
    "\n",
    "            #Laver om til et pandas dataframe \n",
    "\n",
    "            data = {\n",
    "            'Titel': bogtitel,\n",
    "            'Forfatter': forfatter,\n",
    "            'Stjerner': Stjerner,\n",
    "            'nratings': nratings,\n",
    "            'nreviews': nreviews,\n",
    "            'beskrivelse': beskrivelse,\n",
    "            'pages': pages,\n",
    "            'udgivelsesdato': published\n",
    "\n",
    "            }\n",
    "            #print(data)\n",
    "\n",
    "            result_df = pd.DataFrame(data)\n",
    "\n",
    "\n",
    "            if not result_df.empty:\n",
    "                bookshehe = pd.concat([bookshehe,result_df], axis=0, ignore_index=True) #Append to the rest of the data\n",
    "                \n",
    "                if loops %100 == 0:\n",
    "                    bookshehe.to_csv(fp_data/'bookssave100.csv')\n",
    "                \n",
    "                break\n",
    "            else:\n",
    "                print('fejl')\n",
    "        else:\n",
    "            print('overskredet')\n",
    "\n",
    "    except Exception as e:\n",
    "        print(url)\n",
    "        print(e)\n",
    "        continue\n"
   ]
  },
  {
   "cell_type": "code",
   "execution_count": 9,
   "id": "1e914645-cb3a-4a3a-9e06-c105a7c355cd",
   "metadata": {
    "tags": []
   },
   "outputs": [
    {
     "data": {
      "text/html": [
       "<div>\n",
       "<style scoped>\n",
       "    .dataframe tbody tr th:only-of-type {\n",
       "        vertical-align: middle;\n",
       "    }\n",
       "\n",
       "    .dataframe tbody tr th {\n",
       "        vertical-align: top;\n",
       "    }\n",
       "\n",
       "    .dataframe thead th {\n",
       "        text-align: right;\n",
       "    }\n",
       "</style>\n",
       "<table border=\"1\" class=\"dataframe\">\n",
       "  <thead>\n",
       "    <tr style=\"text-align: right;\">\n",
       "      <th></th>\n",
       "      <th>Titel</th>\n",
       "      <th>Forfatter</th>\n",
       "      <th>Stjerner</th>\n",
       "      <th>nratings</th>\n",
       "      <th>nreviews</th>\n",
       "      <th>beskrivelse</th>\n",
       "      <th>pages</th>\n",
       "      <th>udgivelsesdato</th>\n",
       "    </tr>\n",
       "  </thead>\n",
       "  <tbody>\n",
       "    <tr>\n",
       "      <th>0</th>\n",
       "      <td>Poor Economics: A Radical Rethinking of the Wa...</td>\n",
       "      <td>Abhijit V. Banerjee, Esther Duflo</td>\n",
       "      <td>4.28</td>\n",
       "      <td>20738</td>\n",
       "      <td>1888</td>\n",
       "      <td>Why do the poor borrow to save? Why do they mi...</td>\n",
       "      <td>320</td>\n",
       "      <td>2011</td>\n",
       "    </tr>\n",
       "    <tr>\n",
       "      <th>1</th>\n",
       "      <td>Misbehaving: The Making of Behavioral Economics</td>\n",
       "      <td>Richard H. Thaler</td>\n",
       "      <td>4.16</td>\n",
       "      <td>20432</td>\n",
       "      <td>1523</td>\n",
       "      <td>Nobel laureate Richard H. Thaler has spent his...</td>\n",
       "      <td>358</td>\n",
       "      <td>2016</td>\n",
       "    </tr>\n",
       "    <tr>\n",
       "      <th>2</th>\n",
       "      <td>Economics in One Lesson: The Shortest &amp; Surest...</td>\n",
       "      <td>Henry Hazlitt</td>\n",
       "      <td>4.17</td>\n",
       "      <td>19155</td>\n",
       "      <td>1667</td>\n",
       "      <td>A million copy seller, Henry Hazlitt’s Economi...</td>\n",
       "      <td>218</td>\n",
       "      <td>1946</td>\n",
       "    </tr>\n",
       "    <tr>\n",
       "      <th>3</th>\n",
       "      <td>Basic Economics: A Citizen's Guide to the Economy</td>\n",
       "      <td>Thomas Sowell</td>\n",
       "      <td>4.36</td>\n",
       "      <td>11730</td>\n",
       "      <td>1161</td>\n",
       "      <td>Basic Economics is a citizen's guide to econom...</td>\n",
       "      <td>448</td>\n",
       "      <td>2000</td>\n",
       "    </tr>\n",
       "    <tr>\n",
       "      <th>4</th>\n",
       "      <td>Doughnut Economics: Seven Ways to Think Like a...</td>\n",
       "      <td>Kate Raworth</td>\n",
       "      <td>4.19</td>\n",
       "      <td>11634</td>\n",
       "      <td>1318</td>\n",
       "      <td>Economics is broken. It has failed to predict,...</td>\n",
       "      <td>384</td>\n",
       "      <td>2017</td>\n",
       "    </tr>\n",
       "    <tr>\n",
       "      <th>...</th>\n",
       "      <td>...</td>\n",
       "      <td>...</td>\n",
       "      <td>...</td>\n",
       "      <td>...</td>\n",
       "      <td>...</td>\n",
       "      <td>...</td>\n",
       "      <td>...</td>\n",
       "      <td>...</td>\n",
       "    </tr>\n",
       "    <tr>\n",
       "      <th>99</th>\n",
       "      <td>Beyond Growth: The Economics of Sustainable De...</td>\n",
       "      <td>Herman E. Daly</td>\n",
       "      <td>4.13</td>\n",
       "      <td>237</td>\n",
       "      <td>26</td>\n",
       "      <td>\"Daly is turning economics inside out by putti...</td>\n",
       "      <td>254</td>\n",
       "      <td>1996</td>\n",
       "    </tr>\n",
       "    <tr>\n",
       "      <th>100</th>\n",
       "      <td>Great Formulas Explained - Physics, Mathematic...</td>\n",
       "      <td>Metin Bektas</td>\n",
       "      <td>3.89</td>\n",
       "      <td>257</td>\n",
       "      <td>8</td>\n",
       "      <td>In this book you will find some of the greates...</td>\n",
       "      <td>140</td>\n",
       "      <td>2013</td>\n",
       "    </tr>\n",
       "    <tr>\n",
       "      <th>101</th>\n",
       "      <td>Spiritual Economics: The Principles and Proces...</td>\n",
       "      <td>David F Miller (Foreword), Eric Butterworth</td>\n",
       "      <td>4.45</td>\n",
       "      <td>569</td>\n",
       "      <td>58</td>\n",
       "      <td>This straightforward, nontheological approach ...</td>\n",
       "      <td>218</td>\n",
       "      <td>1983</td>\n",
       "    </tr>\n",
       "    <tr>\n",
       "      <th>102</th>\n",
       "      <td>TheCartoon Introduction to Economics Macroecon...</td>\n",
       "      <td>Yoram Bauman, Grady Klein</td>\n",
       "      <td>4.14</td>\n",
       "      <td>590</td>\n",
       "      <td>50</td>\n",
       "      <td>Need to understand today's economy? This is th...</td>\n",
       "      <td>240</td>\n",
       "      <td>2011</td>\n",
       "    </tr>\n",
       "    <tr>\n",
       "      <th>103</th>\n",
       "      <td>Economics in One Virus: An Introduction to Eco...</td>\n",
       "      <td>Ryan  A. Bourne</td>\n",
       "      <td>3.86</td>\n",
       "      <td>118</td>\n",
       "      <td>16</td>\n",
       "      <td>\"A truly excellent book that explains where ou...</td>\n",
       "      <td>320</td>\n",
       "      <td>2021</td>\n",
       "    </tr>\n",
       "  </tbody>\n",
       "</table>\n",
       "<p>104 rows × 8 columns</p>\n",
       "</div>"
      ],
      "text/plain": [
       "                                                 Titel  \\\n",
       "0    Poor Economics: A Radical Rethinking of the Wa...   \n",
       "1      Misbehaving: The Making of Behavioral Economics   \n",
       "2    Economics in One Lesson: The Shortest & Surest...   \n",
       "3    Basic Economics: A Citizen's Guide to the Economy   \n",
       "4    Doughnut Economics: Seven Ways to Think Like a...   \n",
       "..                                                 ...   \n",
       "99   Beyond Growth: The Economics of Sustainable De...   \n",
       "100  Great Formulas Explained - Physics, Mathematic...   \n",
       "101  Spiritual Economics: The Principles and Proces...   \n",
       "102  TheCartoon Introduction to Economics Macroecon...   \n",
       "103  Economics in One Virus: An Introduction to Eco...   \n",
       "\n",
       "                                       Forfatter  Stjerner  nratings  \\\n",
       "0              Abhijit V. Banerjee, Esther Duflo      4.28     20738   \n",
       "1                              Richard H. Thaler      4.16     20432   \n",
       "2                                  Henry Hazlitt      4.17     19155   \n",
       "3                                  Thomas Sowell      4.36     11730   \n",
       "4                                   Kate Raworth      4.19     11634   \n",
       "..                                           ...       ...       ...   \n",
       "99                                Herman E. Daly      4.13       237   \n",
       "100                                 Metin Bektas      3.89       257   \n",
       "101  David F Miller (Foreword), Eric Butterworth      4.45       569   \n",
       "102                    Yoram Bauman, Grady Klein      4.14       590   \n",
       "103                              Ryan  A. Bourne      3.86       118   \n",
       "\n",
       "     nreviews                                        beskrivelse  pages  \\\n",
       "0        1888  Why do the poor borrow to save? Why do they mi...    320   \n",
       "1        1523  Nobel laureate Richard H. Thaler has spent his...    358   \n",
       "2        1667  A million copy seller, Henry Hazlitt’s Economi...    218   \n",
       "3        1161  Basic Economics is a citizen's guide to econom...    448   \n",
       "4        1318  Economics is broken. It has failed to predict,...    384   \n",
       "..        ...                                                ...    ...   \n",
       "99         26  \"Daly is turning economics inside out by putti...    254   \n",
       "100         8  In this book you will find some of the greates...    140   \n",
       "101        58  This straightforward, nontheological approach ...    218   \n",
       "102        50  Need to understand today's economy? This is th...    240   \n",
       "103        16  \"A truly excellent book that explains where ou...    320   \n",
       "\n",
       "     udgivelsesdato  \n",
       "0              2011  \n",
       "1              2016  \n",
       "2              1946  \n",
       "3              2000  \n",
       "4              2017  \n",
       "..              ...  \n",
       "99             1996  \n",
       "100            2013  \n",
       "101            1983  \n",
       "102            2011  \n",
       "103            2021  \n",
       "\n",
       "[104 rows x 8 columns]"
      ]
     },
     "execution_count": 9,
     "metadata": {},
     "output_type": "execute_result"
    }
   ],
   "source": [
    "bookshehe\n",
    "\n",
    "#bookshehe.to_csv(fp_data/'test_rens.csv', index=False)"
   ]
  },
  {
   "cell_type": "code",
   "execution_count": null,
   "id": "79864e11-4000-405d-bb3b-8491358135ec",
   "metadata": {},
   "outputs": [],
   "source": []
  }
 ],
 "metadata": {
  "kernelspec": {
   "display_name": "Python 3 (ipykernel)",
   "language": "python",
   "name": "python3"
  },
  "language_info": {
   "codemirror_mode": {
    "name": "ipython",
    "version": 3
   },
   "file_extension": ".py",
   "mimetype": "text/x-python",
   "name": "python",
   "nbconvert_exporter": "python",
   "pygments_lexer": "ipython3",
   "version": "3.11.3"
  }
 },
 "nbformat": 4,
 "nbformat_minor": 5
}
